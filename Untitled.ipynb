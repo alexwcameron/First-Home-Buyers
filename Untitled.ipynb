{
 "cells": [
  {
   "cell_type": "code",
   "execution_count": 1,
   "metadata": {},
   "outputs": [],
   "source": [
    "import pandas as pd\n",
    "import math"
   ]
  },
  {
   "cell_type": "code",
   "execution_count": 2,
   "metadata": {},
   "outputs": [],
   "source": [
    "DF = pd.read_csv(\"loans.csv\")"
   ]
  },
  {
   "cell_type": "code",
   "execution_count": 3,
   "metadata": {},
   "outputs": [
    {
     "data": {
      "text/html": [
       "<div>\n",
       "<style scoped>\n",
       "    .dataframe tbody tr th:only-of-type {\n",
       "        vertical-align: middle;\n",
       "    }\n",
       "\n",
       "    .dataframe tbody tr th {\n",
       "        vertical-align: top;\n",
       "    }\n",
       "\n",
       "    .dataframe thead th {\n",
       "        text-align: right;\n",
       "    }\n",
       "</style>\n",
       "<table border=\"1\" class=\"dataframe\">\n",
       "  <thead>\n",
       "    <tr style=\"text-align: right;\">\n",
       "      <th></th>\n",
       "      <th>date</th>\n",
       "      <th>Total_New_Loans</th>\n",
       "      <th>Owner_Occupier</th>\n",
       "      <th>Investor</th>\n",
       "      <th>Total_First_Loans</th>\n",
       "      <th>First_Owner</th>\n",
       "      <th>First_Investor</th>\n",
       "    </tr>\n",
       "  </thead>\n",
       "  <tbody>\n",
       "    <tr>\n",
       "      <th>0</th>\n",
       "      <td>Jul-2019</td>\n",
       "      <td>17927.4</td>\n",
       "      <td>12733.0</td>\n",
       "      <td>5194.5</td>\n",
       "      <td>3871.8</td>\n",
       "      <td>3601.9</td>\n",
       "      <td>270.0</td>\n",
       "    </tr>\n",
       "    <tr>\n",
       "      <th>1</th>\n",
       "      <td>Aug-2019</td>\n",
       "      <td>18078.6</td>\n",
       "      <td>12720.6</td>\n",
       "      <td>5358.0</td>\n",
       "      <td>3938.9</td>\n",
       "      <td>3669.7</td>\n",
       "      <td>269.2</td>\n",
       "    </tr>\n",
       "    <tr>\n",
       "      <th>2</th>\n",
       "      <td>Sep-2019</td>\n",
       "      <td>17464.7</td>\n",
       "      <td>12525.9</td>\n",
       "      <td>4938.8</td>\n",
       "      <td>3829.8</td>\n",
       "      <td>3593.8</td>\n",
       "      <td>236.0</td>\n",
       "    </tr>\n",
       "    <tr>\n",
       "      <th>3</th>\n",
       "      <td>Oct-2019</td>\n",
       "      <td>19718.1</td>\n",
       "      <td>14303.8</td>\n",
       "      <td>5414.3</td>\n",
       "      <td>4270.1</td>\n",
       "      <td>4002.9</td>\n",
       "      <td>267.2</td>\n",
       "    </tr>\n",
       "    <tr>\n",
       "      <th>4</th>\n",
       "      <td>Nov-2019</td>\n",
       "      <td>21140.9</td>\n",
       "      <td>15386.5</td>\n",
       "      <td>5754.5</td>\n",
       "      <td>4541.2</td>\n",
       "      <td>4270.3</td>\n",
       "      <td>270.9</td>\n",
       "    </tr>\n",
       "  </tbody>\n",
       "</table>\n",
       "</div>"
      ],
      "text/plain": [
       "       date  Total_New_Loans  Owner_Occupier  Investor  Total_First_Loans  \\\n",
       "0  Jul-2019          17927.4         12733.0    5194.5             3871.8   \n",
       "1  Aug-2019          18078.6         12720.6    5358.0             3938.9   \n",
       "2  Sep-2019          17464.7         12525.9    4938.8             3829.8   \n",
       "3  Oct-2019          19718.1         14303.8    5414.3             4270.1   \n",
       "4  Nov-2019          21140.9         15386.5    5754.5             4541.2   \n",
       "\n",
       "   First_Owner  First_Investor  \n",
       "0       3601.9           270.0  \n",
       "1       3669.7           269.2  \n",
       "2       3593.8           236.0  \n",
       "3       4002.9           267.2  \n",
       "4       4270.3           270.9  "
      ]
     },
     "execution_count": 3,
     "metadata": {},
     "output_type": "execute_result"
    }
   ],
   "source": [
    "DF.head()"
   ]
  },
  {
   "cell_type": "code",
   "execution_count": 4,
   "metadata": {},
   "outputs": [
    {
     "data": {
      "text/html": [
       "\n",
       "    <div class=\"bk-root\">\n",
       "        <a href=\"https://bokeh.org\" target=\"_blank\" class=\"bk-logo bk-logo-small bk-logo-notebook\"></a>\n",
       "        <span id=\"1001\">Loading BokehJS ...</span>\n",
       "    </div>"
      ]
     },
     "metadata": {},
     "output_type": "display_data"
    },
    {
     "data": {
      "application/javascript": [
       "\n",
       "(function(root) {\n",
       "  function now() {\n",
       "    return new Date();\n",
       "  }\n",
       "\n",
       "  var force = true;\n",
       "\n",
       "  if (typeof root._bokeh_onload_callbacks === \"undefined\" || force === true) {\n",
       "    root._bokeh_onload_callbacks = [];\n",
       "    root._bokeh_is_loading = undefined;\n",
       "  }\n",
       "\n",
       "  var JS_MIME_TYPE = 'application/javascript';\n",
       "  var HTML_MIME_TYPE = 'text/html';\n",
       "  var EXEC_MIME_TYPE = 'application/vnd.bokehjs_exec.v0+json';\n",
       "  var CLASS_NAME = 'output_bokeh rendered_html';\n",
       "\n",
       "  /**\n",
       "   * Render data to the DOM node\n",
       "   */\n",
       "  function render(props, node) {\n",
       "    var script = document.createElement(\"script\");\n",
       "    node.appendChild(script);\n",
       "  }\n",
       "\n",
       "  /**\n",
       "   * Handle when an output is cleared or removed\n",
       "   */\n",
       "  function handleClearOutput(event, handle) {\n",
       "    var cell = handle.cell;\n",
       "\n",
       "    var id = cell.output_area._bokeh_element_id;\n",
       "    var server_id = cell.output_area._bokeh_server_id;\n",
       "    // Clean up Bokeh references\n",
       "    if (id != null && id in Bokeh.index) {\n",
       "      Bokeh.index[id].model.document.clear();\n",
       "      delete Bokeh.index[id];\n",
       "    }\n",
       "\n",
       "    if (server_id !== undefined) {\n",
       "      // Clean up Bokeh references\n",
       "      var cmd = \"from bokeh.io.state import curstate; print(curstate().uuid_to_server['\" + server_id + \"'].get_sessions()[0].document.roots[0]._id)\";\n",
       "      cell.notebook.kernel.execute(cmd, {\n",
       "        iopub: {\n",
       "          output: function(msg) {\n",
       "            var id = msg.content.text.trim();\n",
       "            if (id in Bokeh.index) {\n",
       "              Bokeh.index[id].model.document.clear();\n",
       "              delete Bokeh.index[id];\n",
       "            }\n",
       "          }\n",
       "        }\n",
       "      });\n",
       "      // Destroy server and session\n",
       "      var cmd = \"import bokeh.io.notebook as ion; ion.destroy_server('\" + server_id + \"')\";\n",
       "      cell.notebook.kernel.execute(cmd);\n",
       "    }\n",
       "  }\n",
       "\n",
       "  /**\n",
       "   * Handle when a new output is added\n",
       "   */\n",
       "  function handleAddOutput(event, handle) {\n",
       "    var output_area = handle.output_area;\n",
       "    var output = handle.output;\n",
       "\n",
       "    // limit handleAddOutput to display_data with EXEC_MIME_TYPE content only\n",
       "    if ((output.output_type != \"display_data\") || (!output.data.hasOwnProperty(EXEC_MIME_TYPE))) {\n",
       "      return\n",
       "    }\n",
       "\n",
       "    var toinsert = output_area.element.find(\".\" + CLASS_NAME.split(' ')[0]);\n",
       "\n",
       "    if (output.metadata[EXEC_MIME_TYPE][\"id\"] !== undefined) {\n",
       "      toinsert[toinsert.length - 1].firstChild.textContent = output.data[JS_MIME_TYPE];\n",
       "      // store reference to embed id on output_area\n",
       "      output_area._bokeh_element_id = output.metadata[EXEC_MIME_TYPE][\"id\"];\n",
       "    }\n",
       "    if (output.metadata[EXEC_MIME_TYPE][\"server_id\"] !== undefined) {\n",
       "      var bk_div = document.createElement(\"div\");\n",
       "      bk_div.innerHTML = output.data[HTML_MIME_TYPE];\n",
       "      var script_attrs = bk_div.children[0].attributes;\n",
       "      for (var i = 0; i < script_attrs.length; i++) {\n",
       "        toinsert[toinsert.length - 1].firstChild.setAttribute(script_attrs[i].name, script_attrs[i].value);\n",
       "        toinsert[toinsert.length - 1].firstChild.textContent = bk_div.children[0].textContent\n",
       "      }\n",
       "      // store reference to server id on output_area\n",
       "      output_area._bokeh_server_id = output.metadata[EXEC_MIME_TYPE][\"server_id\"];\n",
       "    }\n",
       "  }\n",
       "\n",
       "  function register_renderer(events, OutputArea) {\n",
       "\n",
       "    function append_mime(data, metadata, element) {\n",
       "      // create a DOM node to render to\n",
       "      var toinsert = this.create_output_subarea(\n",
       "        metadata,\n",
       "        CLASS_NAME,\n",
       "        EXEC_MIME_TYPE\n",
       "      );\n",
       "      this.keyboard_manager.register_events(toinsert);\n",
       "      // Render to node\n",
       "      var props = {data: data, metadata: metadata[EXEC_MIME_TYPE]};\n",
       "      render(props, toinsert[toinsert.length - 1]);\n",
       "      element.append(toinsert);\n",
       "      return toinsert\n",
       "    }\n",
       "\n",
       "    /* Handle when an output is cleared or removed */\n",
       "    events.on('clear_output.CodeCell', handleClearOutput);\n",
       "    events.on('delete.Cell', handleClearOutput);\n",
       "\n",
       "    /* Handle when a new output is added */\n",
       "    events.on('output_added.OutputArea', handleAddOutput);\n",
       "\n",
       "    /**\n",
       "     * Register the mime type and append_mime function with output_area\n",
       "     */\n",
       "    OutputArea.prototype.register_mime_type(EXEC_MIME_TYPE, append_mime, {\n",
       "      /* Is output safe? */\n",
       "      safe: true,\n",
       "      /* Index of renderer in `output_area.display_order` */\n",
       "      index: 0\n",
       "    });\n",
       "  }\n",
       "\n",
       "  // register the mime type if in Jupyter Notebook environment and previously unregistered\n",
       "  if (root.Jupyter !== undefined) {\n",
       "    var events = require('base/js/events');\n",
       "    var OutputArea = require('notebook/js/outputarea').OutputArea;\n",
       "\n",
       "    if (OutputArea.prototype.mime_types().indexOf(EXEC_MIME_TYPE) == -1) {\n",
       "      register_renderer(events, OutputArea);\n",
       "    }\n",
       "  }\n",
       "\n",
       "  \n",
       "  if (typeof (root._bokeh_timeout) === \"undefined\" || force === true) {\n",
       "    root._bokeh_timeout = Date.now() + 5000;\n",
       "    root._bokeh_failed_load = false;\n",
       "  }\n",
       "\n",
       "  var NB_LOAD_WARNING = {'data': {'text/html':\n",
       "     \"<div style='background-color: #fdd'>\\n\"+\n",
       "     \"<p>\\n\"+\n",
       "     \"BokehJS does not appear to have successfully loaded. If loading BokehJS from CDN, this \\n\"+\n",
       "     \"may be due to a slow or bad network connection. Possible fixes:\\n\"+\n",
       "     \"</p>\\n\"+\n",
       "     \"<ul>\\n\"+\n",
       "     \"<li>re-rerun `output_notebook()` to attempt to load from CDN again, or</li>\\n\"+\n",
       "     \"<li>use INLINE resources instead, as so:</li>\\n\"+\n",
       "     \"</ul>\\n\"+\n",
       "     \"<code>\\n\"+\n",
       "     \"from bokeh.resources import INLINE\\n\"+\n",
       "     \"output_notebook(resources=INLINE)\\n\"+\n",
       "     \"</code>\\n\"+\n",
       "     \"</div>\"}};\n",
       "\n",
       "  function display_loaded() {\n",
       "    var el = document.getElementById(\"1001\");\n",
       "    if (el != null) {\n",
       "      el.textContent = \"BokehJS is loading...\";\n",
       "    }\n",
       "    if (root.Bokeh !== undefined) {\n",
       "      if (el != null) {\n",
       "        el.textContent = \"BokehJS \" + root.Bokeh.version + \" successfully loaded.\";\n",
       "      }\n",
       "    } else if (Date.now() < root._bokeh_timeout) {\n",
       "      setTimeout(display_loaded, 100)\n",
       "    }\n",
       "  }\n",
       "\n",
       "\n",
       "  function run_callbacks() {\n",
       "    try {\n",
       "      root._bokeh_onload_callbacks.forEach(function(callback) {\n",
       "        if (callback != null)\n",
       "          callback();\n",
       "      });\n",
       "    } finally {\n",
       "      delete root._bokeh_onload_callbacks\n",
       "    }\n",
       "    console.debug(\"Bokeh: all callbacks have finished\");\n",
       "  }\n",
       "\n",
       "  function load_libs(css_urls, js_urls, callback) {\n",
       "    if (css_urls == null) css_urls = [];\n",
       "    if (js_urls == null) js_urls = [];\n",
       "\n",
       "    root._bokeh_onload_callbacks.push(callback);\n",
       "    if (root._bokeh_is_loading > 0) {\n",
       "      console.debug(\"Bokeh: BokehJS is being loaded, scheduling callback at\", now());\n",
       "      return null;\n",
       "    }\n",
       "    if (js_urls == null || js_urls.length === 0) {\n",
       "      run_callbacks();\n",
       "      return null;\n",
       "    }\n",
       "    console.debug(\"Bokeh: BokehJS not loaded, scheduling load and callback at\", now());\n",
       "    root._bokeh_is_loading = css_urls.length + js_urls.length;\n",
       "\n",
       "    function on_load() {\n",
       "      root._bokeh_is_loading--;\n",
       "      if (root._bokeh_is_loading === 0) {\n",
       "        console.debug(\"Bokeh: all BokehJS libraries/stylesheets loaded\");\n",
       "        run_callbacks()\n",
       "      }\n",
       "    }\n",
       "\n",
       "    function on_error() {\n",
       "      console.error(\"failed to load \" + url);\n",
       "    }\n",
       "\n",
       "    for (var i = 0; i < css_urls.length; i++) {\n",
       "      var url = css_urls[i];\n",
       "      const element = document.createElement(\"link\");\n",
       "      element.onload = on_load;\n",
       "      element.onerror = on_error;\n",
       "      element.rel = \"stylesheet\";\n",
       "      element.type = \"text/css\";\n",
       "      element.href = url;\n",
       "      console.debug(\"Bokeh: injecting link tag for BokehJS stylesheet: \", url);\n",
       "      document.body.appendChild(element);\n",
       "    }\n",
       "\n",
       "    const hashes = {\"https://cdn.bokeh.org/bokeh/release/bokeh-2.2.3.min.js\": \"T2yuo9Oe71Cz/I4X9Ac5+gpEa5a8PpJCDlqKYO0CfAuEszu1JrXLl8YugMqYe3sM\", \"https://cdn.bokeh.org/bokeh/release/bokeh-widgets-2.2.3.min.js\": \"98GDGJ0kOMCUMUePhksaQ/GYgB3+NH9h996V88sh3aOiUNX3N+fLXAtry6xctSZ6\", \"https://cdn.bokeh.org/bokeh/release/bokeh-tables-2.2.3.min.js\": \"89bArO+nlbP3sgakeHjCo1JYxYR5wufVgA3IbUvDY+K7w4zyxJqssu7wVnfeKCq8\"};\n",
       "\n",
       "    for (var i = 0; i < js_urls.length; i++) {\n",
       "      var url = js_urls[i];\n",
       "      var element = document.createElement('script');\n",
       "      element.onload = on_load;\n",
       "      element.onerror = on_error;\n",
       "      element.async = false;\n",
       "      element.src = url;\n",
       "      if (url in hashes) {\n",
       "        element.crossOrigin = \"anonymous\";\n",
       "        element.integrity = \"sha384-\" + hashes[url];\n",
       "      }\n",
       "      console.debug(\"Bokeh: injecting script tag for BokehJS library: \", url);\n",
       "      document.head.appendChild(element);\n",
       "    }\n",
       "  };\n",
       "\n",
       "  function inject_raw_css(css) {\n",
       "    const element = document.createElement(\"style\");\n",
       "    element.appendChild(document.createTextNode(css));\n",
       "    document.body.appendChild(element);\n",
       "  }\n",
       "\n",
       "  \n",
       "  var js_urls = [\"https://cdn.bokeh.org/bokeh/release/bokeh-2.2.3.min.js\", \"https://cdn.bokeh.org/bokeh/release/bokeh-widgets-2.2.3.min.js\", \"https://cdn.bokeh.org/bokeh/release/bokeh-tables-2.2.3.min.js\"];\n",
       "  var css_urls = [];\n",
       "  \n",
       "\n",
       "  var inline_js = [\n",
       "    function(Bokeh) {\n",
       "      Bokeh.set_log_level(\"info\");\n",
       "    },\n",
       "    function(Bokeh) {\n",
       "    \n",
       "    \n",
       "    }\n",
       "  ];\n",
       "\n",
       "  function run_inline_js() {\n",
       "    \n",
       "    if (root.Bokeh !== undefined || force === true) {\n",
       "      \n",
       "    for (var i = 0; i < inline_js.length; i++) {\n",
       "      inline_js[i].call(root, root.Bokeh);\n",
       "    }\n",
       "    if (force === true) {\n",
       "        display_loaded();\n",
       "      }} else if (Date.now() < root._bokeh_timeout) {\n",
       "      setTimeout(run_inline_js, 100);\n",
       "    } else if (!root._bokeh_failed_load) {\n",
       "      console.log(\"Bokeh: BokehJS failed to load within specified timeout.\");\n",
       "      root._bokeh_failed_load = true;\n",
       "    } else if (force !== true) {\n",
       "      var cell = $(document.getElementById(\"1001\")).parents('.cell').data().cell;\n",
       "      cell.output_area.append_execute_result(NB_LOAD_WARNING)\n",
       "    }\n",
       "\n",
       "  }\n",
       "\n",
       "  if (root._bokeh_is_loading === 0) {\n",
       "    console.debug(\"Bokeh: BokehJS loaded, going straight to plotting\");\n",
       "    run_inline_js();\n",
       "  } else {\n",
       "    load_libs(css_urls, js_urls, function() {\n",
       "      console.debug(\"Bokeh: BokehJS plotting callback run at\", now());\n",
       "      run_inline_js();\n",
       "    });\n",
       "  }\n",
       "}(window));"
      ],
      "application/vnd.bokehjs_load.v0+json": "\n(function(root) {\n  function now() {\n    return new Date();\n  }\n\n  var force = true;\n\n  if (typeof root._bokeh_onload_callbacks === \"undefined\" || force === true) {\n    root._bokeh_onload_callbacks = [];\n    root._bokeh_is_loading = undefined;\n  }\n\n  \n\n  \n  if (typeof (root._bokeh_timeout) === \"undefined\" || force === true) {\n    root._bokeh_timeout = Date.now() + 5000;\n    root._bokeh_failed_load = false;\n  }\n\n  var NB_LOAD_WARNING = {'data': {'text/html':\n     \"<div style='background-color: #fdd'>\\n\"+\n     \"<p>\\n\"+\n     \"BokehJS does not appear to have successfully loaded. If loading BokehJS from CDN, this \\n\"+\n     \"may be due to a slow or bad network connection. Possible fixes:\\n\"+\n     \"</p>\\n\"+\n     \"<ul>\\n\"+\n     \"<li>re-rerun `output_notebook()` to attempt to load from CDN again, or</li>\\n\"+\n     \"<li>use INLINE resources instead, as so:</li>\\n\"+\n     \"</ul>\\n\"+\n     \"<code>\\n\"+\n     \"from bokeh.resources import INLINE\\n\"+\n     \"output_notebook(resources=INLINE)\\n\"+\n     \"</code>\\n\"+\n     \"</div>\"}};\n\n  function display_loaded() {\n    var el = document.getElementById(\"1001\");\n    if (el != null) {\n      el.textContent = \"BokehJS is loading...\";\n    }\n    if (root.Bokeh !== undefined) {\n      if (el != null) {\n        el.textContent = \"BokehJS \" + root.Bokeh.version + \" successfully loaded.\";\n      }\n    } else if (Date.now() < root._bokeh_timeout) {\n      setTimeout(display_loaded, 100)\n    }\n  }\n\n\n  function run_callbacks() {\n    try {\n      root._bokeh_onload_callbacks.forEach(function(callback) {\n        if (callback != null)\n          callback();\n      });\n    } finally {\n      delete root._bokeh_onload_callbacks\n    }\n    console.debug(\"Bokeh: all callbacks have finished\");\n  }\n\n  function load_libs(css_urls, js_urls, callback) {\n    if (css_urls == null) css_urls = [];\n    if (js_urls == null) js_urls = [];\n\n    root._bokeh_onload_callbacks.push(callback);\n    if (root._bokeh_is_loading > 0) {\n      console.debug(\"Bokeh: BokehJS is being loaded, scheduling callback at\", now());\n      return null;\n    }\n    if (js_urls == null || js_urls.length === 0) {\n      run_callbacks();\n      return null;\n    }\n    console.debug(\"Bokeh: BokehJS not loaded, scheduling load and callback at\", now());\n    root._bokeh_is_loading = css_urls.length + js_urls.length;\n\n    function on_load() {\n      root._bokeh_is_loading--;\n      if (root._bokeh_is_loading === 0) {\n        console.debug(\"Bokeh: all BokehJS libraries/stylesheets loaded\");\n        run_callbacks()\n      }\n    }\n\n    function on_error() {\n      console.error(\"failed to load \" + url);\n    }\n\n    for (var i = 0; i < css_urls.length; i++) {\n      var url = css_urls[i];\n      const element = document.createElement(\"link\");\n      element.onload = on_load;\n      element.onerror = on_error;\n      element.rel = \"stylesheet\";\n      element.type = \"text/css\";\n      element.href = url;\n      console.debug(\"Bokeh: injecting link tag for BokehJS stylesheet: \", url);\n      document.body.appendChild(element);\n    }\n\n    const hashes = {\"https://cdn.bokeh.org/bokeh/release/bokeh-2.2.3.min.js\": \"T2yuo9Oe71Cz/I4X9Ac5+gpEa5a8PpJCDlqKYO0CfAuEszu1JrXLl8YugMqYe3sM\", \"https://cdn.bokeh.org/bokeh/release/bokeh-widgets-2.2.3.min.js\": \"98GDGJ0kOMCUMUePhksaQ/GYgB3+NH9h996V88sh3aOiUNX3N+fLXAtry6xctSZ6\", \"https://cdn.bokeh.org/bokeh/release/bokeh-tables-2.2.3.min.js\": \"89bArO+nlbP3sgakeHjCo1JYxYR5wufVgA3IbUvDY+K7w4zyxJqssu7wVnfeKCq8\"};\n\n    for (var i = 0; i < js_urls.length; i++) {\n      var url = js_urls[i];\n      var element = document.createElement('script');\n      element.onload = on_load;\n      element.onerror = on_error;\n      element.async = false;\n      element.src = url;\n      if (url in hashes) {\n        element.crossOrigin = \"anonymous\";\n        element.integrity = \"sha384-\" + hashes[url];\n      }\n      console.debug(\"Bokeh: injecting script tag for BokehJS library: \", url);\n      document.head.appendChild(element);\n    }\n  };\n\n  function inject_raw_css(css) {\n    const element = document.createElement(\"style\");\n    element.appendChild(document.createTextNode(css));\n    document.body.appendChild(element);\n  }\n\n  \n  var js_urls = [\"https://cdn.bokeh.org/bokeh/release/bokeh-2.2.3.min.js\", \"https://cdn.bokeh.org/bokeh/release/bokeh-widgets-2.2.3.min.js\", \"https://cdn.bokeh.org/bokeh/release/bokeh-tables-2.2.3.min.js\"];\n  var css_urls = [];\n  \n\n  var inline_js = [\n    function(Bokeh) {\n      Bokeh.set_log_level(\"info\");\n    },\n    function(Bokeh) {\n    \n    \n    }\n  ];\n\n  function run_inline_js() {\n    \n    if (root.Bokeh !== undefined || force === true) {\n      \n    for (var i = 0; i < inline_js.length; i++) {\n      inline_js[i].call(root, root.Bokeh);\n    }\n    if (force === true) {\n        display_loaded();\n      }} else if (Date.now() < root._bokeh_timeout) {\n      setTimeout(run_inline_js, 100);\n    } else if (!root._bokeh_failed_load) {\n      console.log(\"Bokeh: BokehJS failed to load within specified timeout.\");\n      root._bokeh_failed_load = true;\n    } else if (force !== true) {\n      var cell = $(document.getElementById(\"1001\")).parents('.cell').data().cell;\n      cell.output_area.append_execute_result(NB_LOAD_WARNING)\n    }\n\n  }\n\n  if (root._bokeh_is_loading === 0) {\n    console.debug(\"Bokeh: BokehJS loaded, going straight to plotting\");\n    run_inline_js();\n  } else {\n    load_libs(css_urls, js_urls, function() {\n      console.debug(\"Bokeh: BokehJS plotting callback run at\", now());\n      run_inline_js();\n    });\n  }\n}(window));"
     },
     "metadata": {},
     "output_type": "display_data"
    }
   ],
   "source": [
    "import pandas as pd\n",
    "from bokeh.plotting import figure, output_notebook, show\n",
    "from bokeh.models import ColumnDataSource\n",
    "from bokeh.models.tools import HoverTool\n",
    "\n",
    "from bokeh.palettes import Spectral5, Spectral3\n",
    "from bokeh.transform import factor_cmap\n",
    "\n",
    "output_notebook()"
   ]
  },
  {
   "cell_type": "markdown",
   "metadata": {},
   "source": [
    "# First Home Buyers vs Not"
   ]
  },
  {
   "cell_type": "code",
   "execution_count": 78,
   "metadata": {},
   "outputs": [
    {
     "data": {
      "text/html": [
       "\n",
       "\n",
       "\n",
       "\n",
       "\n",
       "\n",
       "  <div class=\"bk-root\" id=\"4001acf8-8274-44e3-9b64-c89c264df1ec\" data-root-id=\"24535\"></div>\n"
      ]
     },
     "metadata": {},
     "output_type": "display_data"
    },
    {
     "data": {
      "application/javascript": [
       "(function(root) {\n",
       "  function embed_document(root) {\n",
       "    \n",
       "  var docs_json = {\"53acc41c-ab9b-4f81-8bec-58370c4cb8f9\":{\"roots\":{\"references\":[{\"attributes\":{\"below\":[{\"id\":\"24544\"}],\"center\":[{\"id\":\"24546\"},{\"id\":\"24550\"},{\"id\":\"24585\"}],\"left\":[{\"id\":\"24547\"}],\"renderers\":[{\"id\":\"24574\"},{\"id\":\"24590\"}],\"title\":{\"id\":\"24577\"},\"toolbar\":{\"id\":\"24559\"},\"x_range\":{\"id\":\"24536\"},\"x_scale\":{\"id\":\"24540\"},\"y_range\":{\"id\":\"24538\"},\"y_scale\":{\"id\":\"24542\"}},\"id\":\"24535\",\"subtype\":\"Figure\",\"type\":\"Plot\"},{\"attributes\":{\"source\":{\"id\":\"24534\"}},\"id\":\"24591\",\"type\":\"CDSView\"},{\"attributes\":{\"axis\":{\"id\":\"24544\"},\"grid_line_color\":null,\"ticker\":null},\"id\":\"24546\",\"type\":\"Grid\"},{\"attributes\":{\"bottom_units\":\"screen\",\"fill_alpha\":0.5,\"fill_color\":\"lightgrey\",\"left_units\":\"screen\",\"level\":\"overlay\",\"line_alpha\":1.0,\"line_color\":\"black\",\"line_dash\":[4,4],\"line_width\":2,\"right_units\":\"screen\",\"top_units\":\"screen\"},\"id\":\"24557\",\"type\":\"BoxAnnotation\"},{\"attributes\":{},\"id\":\"24538\",\"type\":\"DataRange1d\"},{\"attributes\":{\"factors\":[\"Jul-2019\",\"Aug-2019\",\"Sep-2019\",\"Oct-2019\",\"Nov-2019\",\"Dec-2019\",\"Jan-2020\",\"Feb-2020\",\"Mar-2020\",\"Apr-2020\",\"May-2020\",\"Jun-2020\",\"Jul-2020\",\"Aug-2020\",\"Sep-2020\",\"Oct-2020\",\"Nov-2020\",\"Dec-2020\",\"Jan-2021\",\"Feb-2021\",\"Mar-2021\",\"Apr-2021\",\"May-2021\"]},\"id\":\"24536\",\"type\":\"FactorRange\"},{\"attributes\":{\"axis_label\":\"Month\",\"formatter\":{\"id\":\"24580\"},\"major_label_orientation\":1.5707963267948966,\"ticker\":{\"id\":\"24545\"}},\"id\":\"24544\",\"type\":\"CategoricalAxis\"},{\"attributes\":{},\"id\":\"24578\",\"type\":\"BasicTickFormatter\"},{\"attributes\":{\"overlay\":{\"id\":\"24557\"}},\"id\":\"24553\",\"type\":\"BoxZoomTool\"},{\"attributes\":{\"bottom\":{\"expr\":{\"id\":\"24567\"}},\"fill_color\":{\"value\":\"#2b83ba\"},\"line_color\":{\"value\":\"#2b83ba\"},\"top\":{\"expr\":{\"id\":\"24568\"}},\"width\":{\"value\":0.5},\"x\":{\"field\":\"date\"}},\"id\":\"24572\",\"type\":\"VBar\"},{\"attributes\":{\"fields\":[]},\"id\":\"24567\",\"type\":\"Stack\"},{\"attributes\":{},\"id\":\"24556\",\"type\":\"HelpTool\"},{\"attributes\":{\"items\":[{\"id\":\"24586\"},{\"id\":\"24601\"}],\"location\":\"top_left\"},\"id\":\"24585\",\"type\":\"Legend\"},{\"attributes\":{\"axis_label\":\"Loans in $ Millions\",\"formatter\":{\"id\":\"24578\"},\"ticker\":{\"id\":\"24548\"}},\"id\":\"24547\",\"type\":\"LinearAxis\"},{\"attributes\":{},\"id\":\"24584\",\"type\":\"UnionRenderers\"},{\"attributes\":{\"source\":{\"id\":\"24534\"}},\"id\":\"24575\",\"type\":\"CDSView\"},{\"attributes\":{\"data_source\":{\"id\":\"24534\"},\"glyph\":{\"id\":\"24572\"},\"hover_glyph\":null,\"muted_glyph\":null,\"name\":\"Total_First_Loans\",\"nonselection_glyph\":{\"id\":\"24573\"},\"selection_glyph\":null,\"view\":{\"id\":\"24575\"}},\"id\":\"24574\",\"type\":\"GlyphRenderer\"},{\"attributes\":{\"text\":\"\"},\"id\":\"24577\",\"type\":\"Title\"},{\"attributes\":{},\"id\":\"24545\",\"type\":\"CategoricalTicker\"},{\"attributes\":{},\"id\":\"24540\",\"type\":\"CategoricalScale\"},{\"attributes\":{\"label\":{\"value\":\"Other\"},\"renderers\":[{\"id\":\"24590\"}]},\"id\":\"24601\",\"type\":\"LegendItem\"},{\"attributes\":{},\"id\":\"24548\",\"type\":\"BasicTicker\"},{\"attributes\":{},\"id\":\"24580\",\"type\":\"CategoricalTickFormatter\"},{\"attributes\":{\"bottom\":{\"expr\":{\"id\":\"24569\"}},\"fill_color\":{\"value\":\"#abdda4\"},\"line_color\":{\"value\":\"#abdda4\"},\"top\":{\"expr\":{\"id\":\"24570\"}},\"width\":{\"value\":0.5},\"x\":{\"field\":\"date\"}},\"id\":\"24588\",\"type\":\"VBar\"},{\"attributes\":{\"axis\":{\"id\":\"24547\"},\"dimension\":1,\"grid_line_color\":null,\"ticker\":null},\"id\":\"24550\",\"type\":\"Grid\"},{\"attributes\":{},\"id\":\"24551\",\"type\":\"PanTool\"},{\"attributes\":{\"callback\":null,\"tooltips\":[[\"First Time Home Buyers\",\"$@Total_First_Loans{int} million\"],[\"Established Buyers\",\"$@Old{int} million\"]]},\"id\":\"24558\",\"type\":\"HoverTool\"},{\"attributes\":{},\"id\":\"24583\",\"type\":\"Selection\"},{\"attributes\":{},\"id\":\"24552\",\"type\":\"WheelZoomTool\"},{\"attributes\":{\"label\":{\"value\":\"First Home Buyers\"},\"renderers\":[{\"id\":\"24574\"}]},\"id\":\"24586\",\"type\":\"LegendItem\"},{\"attributes\":{\"bottom\":{\"expr\":{\"id\":\"24569\"}},\"fill_alpha\":{\"value\":0.1},\"fill_color\":{\"value\":\"#abdda4\"},\"line_alpha\":{\"value\":0.1},\"line_color\":{\"value\":\"#abdda4\"},\"top\":{\"expr\":{\"id\":\"24570\"}},\"width\":{\"value\":0.5},\"x\":{\"field\":\"date\"}},\"id\":\"24589\",\"type\":\"VBar\"},{\"attributes\":{\"fields\":[\"Total_First_Loans\",\"Old\"]},\"id\":\"24570\",\"type\":\"Stack\"},{\"attributes\":{\"active_drag\":\"auto\",\"active_inspect\":\"auto\",\"active_multi\":null,\"active_scroll\":\"auto\",\"active_tap\":\"auto\",\"tools\":[{\"id\":\"24551\"},{\"id\":\"24552\"},{\"id\":\"24553\"},{\"id\":\"24554\"},{\"id\":\"24555\"},{\"id\":\"24556\"},{\"id\":\"24558\"}]},\"id\":\"24559\",\"type\":\"Toolbar\"},{\"attributes\":{},\"id\":\"24554\",\"type\":\"SaveTool\"},{\"attributes\":{\"fields\":[\"Total_First_Loans\"]},\"id\":\"24568\",\"type\":\"Stack\"},{\"attributes\":{\"data\":{\"Old\":{\"__ndarray__\":\"zszMzMxzy0CZmZmZ2Z3LQDQzMzNzocpA//////8rzkDNzMzM7DXQQM3MzMxMXdBAZ2ZmZqbdykDNzMzMjLjIQAAAAAAA48xAzczMzAz4yUDNzMzMzInIQGdmZmZmq8tAMjMzM3N3zUBmZmZmZh3OQGZmZmYms9BAAAAAAOAj0UAzMzMzc7jSQJqZmZkZ5tRAmpmZmTkR0UCamZmZGZHRQAAAAACA9dZAZ2ZmZkbu1UDMzMzM7FvYQA==\",\"dtype\":\"float64\",\"order\":\"little\",\"shape\":[23]},\"Total_First_Loans\":{\"__ndarray__\":\"mpmZmZk/rkDNzMzMzMWuQJqZmZmZ661AmpmZmRmusEAzMzMzM72xQM3MzMxM+bFAzczMzMwIrkAzMzMzM86sQM3MzMxMLbFAzczMzMykr0DNzMzMzCKuQJqZmZkZ3LBAMzMzMzO4skAzMzMzs0i0QAAAAACA8LZAAAAAAICUt0AAAAAAgIO5QGZmZmbmiL1AAAAAAABZuEBmZmZmZvW3QDMzMzMzB71AzczMzExKukCamZmZGfK7QA==\",\"dtype\":\"float64\",\"order\":\"little\",\"shape\":[23]},\"date\":[\"Jul-2019\",\"Aug-2019\",\"Sep-2019\",\"Oct-2019\",\"Nov-2019\",\"Dec-2019\",\"Jan-2020\",\"Feb-2020\",\"Mar-2020\",\"Apr-2020\",\"May-2020\",\"Jun-2020\",\"Jul-2020\",\"Aug-2020\",\"Sep-2020\",\"Oct-2020\",\"Nov-2020\",\"Dec-2020\",\"Jan-2021\",\"Feb-2021\",\"Mar-2021\",\"Apr-2021\",\"May-2021\"]},\"selected\":{\"id\":\"24583\"},\"selection_policy\":{\"id\":\"24584\"}},\"id\":\"24534\",\"type\":\"ColumnDataSource\"},{\"attributes\":{\"data_source\":{\"id\":\"24534\"},\"glyph\":{\"id\":\"24588\"},\"hover_glyph\":null,\"muted_glyph\":null,\"name\":\"Old\",\"nonselection_glyph\":{\"id\":\"24589\"},\"selection_glyph\":null,\"view\":{\"id\":\"24591\"}},\"id\":\"24590\",\"type\":\"GlyphRenderer\"},{\"attributes\":{\"bottom\":{\"expr\":{\"id\":\"24567\"}},\"fill_alpha\":{\"value\":0.1},\"fill_color\":{\"value\":\"#2b83ba\"},\"line_alpha\":{\"value\":0.1},\"line_color\":{\"value\":\"#2b83ba\"},\"top\":{\"expr\":{\"id\":\"24568\"}},\"width\":{\"value\":0.5},\"x\":{\"field\":\"date\"}},\"id\":\"24573\",\"type\":\"VBar\"},{\"attributes\":{},\"id\":\"24542\",\"type\":\"LinearScale\"},{\"attributes\":{\"fields\":[\"Total_First_Loans\"]},\"id\":\"24569\",\"type\":\"Stack\"},{\"attributes\":{},\"id\":\"24555\",\"type\":\"ResetTool\"}],\"root_ids\":[\"24535\"]},\"title\":\"Bokeh Application\",\"version\":\"2.2.3\"}};\n",
       "  var render_items = [{\"docid\":\"53acc41c-ab9b-4f81-8bec-58370c4cb8f9\",\"root_ids\":[\"24535\"],\"roots\":{\"24535\":\"4001acf8-8274-44e3-9b64-c89c264df1ec\"}}];\n",
       "  root.Bokeh.embed.embed_items_notebook(docs_json, render_items);\n",
       "\n",
       "  }\n",
       "  if (root.Bokeh !== undefined) {\n",
       "    embed_document(root);\n",
       "  } else {\n",
       "    var attempts = 0;\n",
       "    var timer = setInterval(function(root) {\n",
       "      if (root.Bokeh !== undefined) {\n",
       "        clearInterval(timer);\n",
       "        embed_document(root);\n",
       "      } else {\n",
       "        attempts++;\n",
       "        if (attempts > 100) {\n",
       "          clearInterval(timer);\n",
       "          console.log(\"Bokeh: ERROR: Unable to run BokehJS code because BokehJS library is missing\");\n",
       "        }\n",
       "      }\n",
       "    }, 10, root)\n",
       "  }\n",
       "})(window);"
      ],
      "application/vnd.bokehjs_exec.v0+json": ""
     },
     "metadata": {
      "application/vnd.bokehjs_exec.v0+json": {
       "id": "24535"
      }
     },
     "output_type": "display_data"
    }
   ],
   "source": [
    "DF['Old'] = DF.Total_New_Loans - DF.Total_First_Loans\n",
    "new_old = DF[['date','Old', 'Total_First_Loans']]\n",
    "new_old = new_old.set_index('date')\n",
    "source = ColumnDataSource(new_old)\n",
    "dates = DF['date'].tolist()\n",
    "\n",
    "TOOLTIPS = [\n",
    "    (\"First Time Home Buyers\", \"$@Total_First_Loans{int} million\"),\n",
    "    (\"Established Buyers\", \"$@Old{int} million\"),]\n",
    "\n",
    "p = figure(x_range=dates, tooltips=TOOLTIPS)\n",
    "\n",
    "p.vbar_stack(stackers=['Total_First_Loans', 'Old'],\n",
    "             x='date', source=source,\n",
    "             width=0.5, color=Spectral5[0:2],\n",
    "            legend_label = ['First Home Buyers', 'Other'])\n",
    "\n",
    "p.legend.location = 'top_left'\n",
    "\n",
    "p.xaxis.axis_label = 'Month'\n",
    "p.xgrid.grid_line_color = None\t#remove the x grid lines\n",
    "p.ygrid.grid_line_color = None\t#remove the x grid lines\n",
    "\n",
    "p.yaxis.axis_label = 'Loans in $ Millions'\n",
    "\n",
    "p.xaxis.major_label_orientation = math.pi/2\n",
    "\n",
    "show(p)"
   ]
  },
  {
   "cell_type": "markdown",
   "metadata": {},
   "source": [
    "# Owner Ocuupier vs Investor"
   ]
  },
  {
   "cell_type": "code",
   "execution_count": 76,
   "metadata": {},
   "outputs": [
    {
     "data": {
      "text/html": [
       "\n",
       "\n",
       "\n",
       "\n",
       "\n",
       "\n",
       "  <div class=\"bk-root\" id=\"b861a2e9-c570-4efb-934d-a2efb165ab2c\" data-root-id=\"22900\"></div>\n"
      ]
     },
     "metadata": {},
     "output_type": "display_data"
    },
    {
     "data": {
      "application/javascript": [
       "(function(root) {\n",
       "  function embed_document(root) {\n",
       "    \n",
       "  var docs_json = {\"7a7bbfb4-79e7-4579-ba58-dc5bbd4bf980\":{\"roots\":{\"references\":[{\"attributes\":{\"below\":[{\"id\":\"22909\"}],\"center\":[{\"id\":\"22911\"},{\"id\":\"22915\"},{\"id\":\"22950\"}],\"left\":[{\"id\":\"22912\"}],\"renderers\":[{\"id\":\"22939\"},{\"id\":\"22955\"}],\"title\":{\"id\":\"22942\"},\"toolbar\":{\"id\":\"22924\"},\"x_range\":{\"id\":\"22901\"},\"x_scale\":{\"id\":\"22905\"},\"y_range\":{\"id\":\"22903\"},\"y_scale\":{\"id\":\"22907\"}},\"id\":\"22900\",\"subtype\":\"Figure\",\"type\":\"Plot\"},{\"attributes\":{},\"id\":\"22919\",\"type\":\"SaveTool\"},{\"attributes\":{},\"id\":\"22920\",\"type\":\"ResetTool\"},{\"attributes\":{\"fields\":[\"Owner_Occupier\"]},\"id\":\"22934\",\"type\":\"Stack\"},{\"attributes\":{},\"id\":\"22948\",\"type\":\"Selection\"},{\"attributes\":{\"fields\":[\"Owner_Occupier\",\"Investor\"]},\"id\":\"22935\",\"type\":\"Stack\"},{\"attributes\":{\"items\":[{\"id\":\"22951\"},{\"id\":\"22966\"}],\"location\":\"top_left\"},\"id\":\"22950\",\"type\":\"Legend\"},{\"attributes\":{},\"id\":\"22949\",\"type\":\"UnionRenderers\"},{\"attributes\":{},\"id\":\"22945\",\"type\":\"CategoricalTickFormatter\"},{\"attributes\":{\"data_source\":{\"id\":\"22899\"},\"glyph\":{\"id\":\"22937\"},\"hover_glyph\":null,\"muted_glyph\":null,\"name\":\"Owner_Occupier\",\"nonselection_glyph\":{\"id\":\"22938\"},\"selection_glyph\":null,\"view\":{\"id\":\"22940\"}},\"id\":\"22939\",\"type\":\"GlyphRenderer\"},{\"attributes\":{\"axis_label\":\"Loans in $ Millions\",\"formatter\":{\"id\":\"22943\"},\"ticker\":{\"id\":\"22913\"}},\"id\":\"22912\",\"type\":\"LinearAxis\"},{\"attributes\":{\"fields\":[\"Owner_Occupier\"]},\"id\":\"22933\",\"type\":\"Stack\"},{\"attributes\":{},\"id\":\"22903\",\"type\":\"DataRange1d\"},{\"attributes\":{\"bottom_units\":\"screen\",\"fill_alpha\":0.5,\"fill_color\":\"lightgrey\",\"left_units\":\"screen\",\"level\":\"overlay\",\"line_alpha\":1.0,\"line_color\":\"black\",\"line_dash\":[4,4],\"line_width\":2,\"right_units\":\"screen\",\"top_units\":\"screen\"},\"id\":\"22922\",\"type\":\"BoxAnnotation\"},{\"attributes\":{},\"id\":\"22907\",\"type\":\"LinearScale\"},{\"attributes\":{},\"id\":\"22910\",\"type\":\"CategoricalTicker\"},{\"attributes\":{\"bottom\":{\"expr\":{\"id\":\"22934\"}},\"fill_color\":{\"value\":\"#abdda4\"},\"line_color\":{\"value\":\"#abdda4\"},\"top\":{\"expr\":{\"id\":\"22935\"}},\"width\":{\"value\":0.5},\"x\":{\"field\":\"date\"}},\"id\":\"22953\",\"type\":\"VBar\"},{\"attributes\":{\"data\":{\"Investor\":{\"__ndarray__\":\"AAAAAIBKtEAAAAAAAO60QM3MzMzMSrNAzczMzEwmtUAAAAAAgHq2QAAAAAAAyrZAMzMzM7NkskAzMzMzM0qxQAAAAACAu7NAMzMzMzO6sUAAAAAAAF6wQJqZmZmZKrNAZmZmZmYjs0AAAAAAgCGzQDMzMzOz/LRAzczMzEw4tUAzMzMzswu3QAAAAACAGbpAzczMzMwgtUAzMzMzs4W2QAAAAAAA975AMzMzM7O2vUBmZmZmZqvBQA==\",\"dtype\":\"float64\",\"order\":\"little\",\"shape\":[23]},\"Owner_Occupier\":{\"__ndarray__\":\"AAAAAIDeyEDNzMzMTNjIQDMzMzPzdshAZmZmZubvy0AAAAAAQA3OQDMzMzMzUs5AzczMzIwtyUAAAAAAAEfHQGZmZmbmm8tAZmZmZiYEyUAAAAAAgOPHQJqZmZkZhMpAmpmZmdlBzUAAAAAAALHOQJqZmZkZMNFAMzMzM/O60UBmZmZmZlbTQDMzMzPzwdVAZmZmZkbf0UBmZmZmBu3RQGZmZmaGedZAzczMzCwT1UAAAAAAwILWQA==\",\"dtype\":\"float64\",\"order\":\"little\",\"shape\":[23]},\"date\":[\"Jul-2019\",\"Aug-2019\",\"Sep-2019\",\"Oct-2019\",\"Nov-2019\",\"Dec-2019\",\"Jan-2020\",\"Feb-2020\",\"Mar-2020\",\"Apr-2020\",\"May-2020\",\"Jun-2020\",\"Jul-2020\",\"Aug-2020\",\"Sep-2020\",\"Oct-2020\",\"Nov-2020\",\"Dec-2020\",\"Jan-2021\",\"Feb-2021\",\"Mar-2021\",\"Apr-2021\",\"May-2021\"],\"index\":[0,1,2,3,4,5,6,7,8,9,10,11,12,13,14,15,16,17,18,19,20,21,22]},\"selected\":{\"id\":\"22948\"},\"selection_policy\":{\"id\":\"22949\"}},\"id\":\"22899\",\"type\":\"ColumnDataSource\"},{\"attributes\":{},\"id\":\"22943\",\"type\":\"BasicTickFormatter\"},{\"attributes\":{\"bottom\":{\"expr\":{\"id\":\"22934\"}},\"fill_alpha\":{\"value\":0.1},\"fill_color\":{\"value\":\"#abdda4\"},\"line_alpha\":{\"value\":0.1},\"line_color\":{\"value\":\"#abdda4\"},\"top\":{\"expr\":{\"id\":\"22935\"}},\"width\":{\"value\":0.5},\"x\":{\"field\":\"date\"}},\"id\":\"22954\",\"type\":\"VBar\"},{\"attributes\":{},\"id\":\"22905\",\"type\":\"CategoricalScale\"},{\"attributes\":{\"source\":{\"id\":\"22899\"}},\"id\":\"22956\",\"type\":\"CDSView\"},{\"attributes\":{\"label\":{\"value\":\"Investor\"},\"renderers\":[{\"id\":\"22955\"}]},\"id\":\"22966\",\"type\":\"LegendItem\"},{\"attributes\":{},\"id\":\"22921\",\"type\":\"HelpTool\"},{\"attributes\":{},\"id\":\"22913\",\"type\":\"BasicTicker\"},{\"attributes\":{\"fields\":[]},\"id\":\"22932\",\"type\":\"Stack\"},{\"attributes\":{\"data_source\":{\"id\":\"22899\"},\"glyph\":{\"id\":\"22953\"},\"hover_glyph\":null,\"muted_glyph\":null,\"name\":\"Investor\",\"nonselection_glyph\":{\"id\":\"22954\"},\"selection_glyph\":null,\"view\":{\"id\":\"22956\"}},\"id\":\"22955\",\"type\":\"GlyphRenderer\"},{\"attributes\":{\"factors\":[\"Jul-2019\",\"Aug-2019\",\"Sep-2019\",\"Oct-2019\",\"Nov-2019\",\"Dec-2019\",\"Jan-2020\",\"Feb-2020\",\"Mar-2020\",\"Apr-2020\",\"May-2020\",\"Jun-2020\",\"Jul-2020\",\"Aug-2020\",\"Sep-2020\",\"Oct-2020\",\"Nov-2020\",\"Dec-2020\",\"Jan-2021\",\"Feb-2021\",\"Mar-2021\",\"Apr-2021\",\"May-2021\"]},\"id\":\"22901\",\"type\":\"FactorRange\"},{\"attributes\":{\"axis_label\":\"Month\",\"formatter\":{\"id\":\"22945\"},\"major_label_orientation\":1.5707963267948966,\"ticker\":{\"id\":\"22910\"}},\"id\":\"22909\",\"type\":\"CategoricalAxis\"},{\"attributes\":{\"axis\":{\"id\":\"22912\"},\"dimension\":1,\"grid_line_color\":null,\"ticker\":null},\"id\":\"22915\",\"type\":\"Grid\"},{\"attributes\":{\"axis\":{\"id\":\"22909\"},\"grid_line_color\":null,\"ticker\":null},\"id\":\"22911\",\"type\":\"Grid\"},{\"attributes\":{\"callback\":null,\"tooltips\":[[\"Owner Occupier\",\"$@Owner_Occupier{int} million\"],[\"Investor\",\"$@Investor{int} million\"]]},\"id\":\"22923\",\"type\":\"HoverTool\"},{\"attributes\":{\"source\":{\"id\":\"22899\"}},\"id\":\"22940\",\"type\":\"CDSView\"},{\"attributes\":{\"bottom\":{\"expr\":{\"id\":\"22932\"}},\"fill_color\":{\"value\":\"#2b83ba\"},\"line_color\":{\"value\":\"#2b83ba\"},\"top\":{\"expr\":{\"id\":\"22933\"}},\"width\":{\"value\":0.5},\"x\":{\"field\":\"date\"}},\"id\":\"22937\",\"type\":\"VBar\"},{\"attributes\":{\"active_drag\":\"auto\",\"active_inspect\":\"auto\",\"active_multi\":null,\"active_scroll\":\"auto\",\"active_tap\":\"auto\",\"tools\":[{\"id\":\"22916\"},{\"id\":\"22917\"},{\"id\":\"22918\"},{\"id\":\"22919\"},{\"id\":\"22920\"},{\"id\":\"22921\"},{\"id\":\"22923\"}]},\"id\":\"22924\",\"type\":\"Toolbar\"},{\"attributes\":{\"text\":\"\"},\"id\":\"22942\",\"type\":\"Title\"},{\"attributes\":{\"bottom\":{\"expr\":{\"id\":\"22932\"}},\"fill_alpha\":{\"value\":0.1},\"fill_color\":{\"value\":\"#2b83ba\"},\"line_alpha\":{\"value\":0.1},\"line_color\":{\"value\":\"#2b83ba\"},\"top\":{\"expr\":{\"id\":\"22933\"}},\"width\":{\"value\":0.5},\"x\":{\"field\":\"date\"}},\"id\":\"22938\",\"type\":\"VBar\"},{\"attributes\":{},\"id\":\"22917\",\"type\":\"WheelZoomTool\"},{\"attributes\":{\"label\":{\"value\":\"Owner Occupier\"},\"renderers\":[{\"id\":\"22939\"}]},\"id\":\"22951\",\"type\":\"LegendItem\"},{\"attributes\":{},\"id\":\"22916\",\"type\":\"PanTool\"},{\"attributes\":{\"overlay\":{\"id\":\"22922\"}},\"id\":\"22918\",\"type\":\"BoxZoomTool\"}],\"root_ids\":[\"22900\"]},\"title\":\"Bokeh Application\",\"version\":\"2.2.3\"}};\n",
       "  var render_items = [{\"docid\":\"7a7bbfb4-79e7-4579-ba58-dc5bbd4bf980\",\"root_ids\":[\"22900\"],\"roots\":{\"22900\":\"b861a2e9-c570-4efb-934d-a2efb165ab2c\"}}];\n",
       "  root.Bokeh.embed.embed_items_notebook(docs_json, render_items);\n",
       "\n",
       "  }\n",
       "  if (root.Bokeh !== undefined) {\n",
       "    embed_document(root);\n",
       "  } else {\n",
       "    var attempts = 0;\n",
       "    var timer = setInterval(function(root) {\n",
       "      if (root.Bokeh !== undefined) {\n",
       "        clearInterval(timer);\n",
       "        embed_document(root);\n",
       "      } else {\n",
       "        attempts++;\n",
       "        if (attempts > 100) {\n",
       "          clearInterval(timer);\n",
       "          console.log(\"Bokeh: ERROR: Unable to run BokehJS code because BokehJS library is missing\");\n",
       "        }\n",
       "      }\n",
       "    }, 10, root)\n",
       "  }\n",
       "})(window);"
      ],
      "application/vnd.bokehjs_exec.v0+json": ""
     },
     "metadata": {
      "application/vnd.bokehjs_exec.v0+json": {
       "id": "22900"
      }
     },
     "output_type": "display_data"
    }
   ],
   "source": [
    "invester_owner = DF[['date','Owner_Occupier', 'Investor']]\n",
    "source = ColumnDataSource(invester_owner)\n",
    "dates = DF['date'].tolist()\n",
    "\n",
    "TOOLTIPS = [\n",
    "    (\"Owner Occupier\", \"$@Owner_Occupier{int} million\"),\n",
    "    (\"Investor\", \"$@Investor{int} million\"),]\n",
    "\n",
    "p = figure(x_range=dates, tooltips=TOOLTIPS)\n",
    "\n",
    "p.vbar_stack(stackers=['Owner_Occupier', 'Investor'],\n",
    "             x='date', source=source,\n",
    "             width=0.5, color=Spectral5[0:2],\n",
    "            legend_label = ['Owner Occupier', 'Investor'])\n",
    "\n",
    "p.legend.location = 'top_left'\n",
    "\n",
    "p.xaxis.axis_label = 'Month'\n",
    "p.xgrid.grid_line_color = None\t#remove the x grid lines\n",
    "p.ygrid.grid_line_color = None\t#remove the x grid lines\n",
    "\n",
    "p.yaxis.axis_label = 'Loans in $ Millions'\n",
    "\n",
    "p.xaxis.major_label_orientation = math.pi/2\n",
    "\n",
    "show(p)"
   ]
  },
  {
   "cell_type": "markdown",
   "metadata": {},
   "source": [
    "# First time home buyers by type"
   ]
  },
  {
   "cell_type": "code",
   "execution_count": 75,
   "metadata": {},
   "outputs": [
    {
     "data": {
      "text/html": [
       "\n",
       "\n",
       "\n",
       "\n",
       "\n",
       "\n",
       "  <div class=\"bk-root\" id=\"d17de8c8-b829-43d8-ae8c-251b69fd3f4b\" data-root-id=\"22095\"></div>\n"
      ]
     },
     "metadata": {},
     "output_type": "display_data"
    },
    {
     "data": {
      "application/javascript": [
       "(function(root) {\n",
       "  function embed_document(root) {\n",
       "    \n",
       "  var docs_json = {\"211cc791-5aca-41ca-919e-16e9bff33ac0\":{\"roots\":{\"references\":[{\"attributes\":{\"below\":[{\"id\":\"22104\"}],\"center\":[{\"id\":\"22106\"},{\"id\":\"22110\"},{\"id\":\"22145\"}],\"left\":[{\"id\":\"22107\"}],\"renderers\":[{\"id\":\"22134\"},{\"id\":\"22150\"}],\"title\":{\"id\":\"22137\"},\"toolbar\":{\"id\":\"22119\"},\"x_range\":{\"id\":\"22096\"},\"x_scale\":{\"id\":\"22100\"},\"y_range\":{\"id\":\"22098\"},\"y_scale\":{\"id\":\"22102\"}},\"id\":\"22095\",\"subtype\":\"Figure\",\"type\":\"Plot\"},{\"attributes\":{\"label\":{\"value\":\"Investor\"},\"renderers\":[{\"id\":\"22150\"}]},\"id\":\"22161\",\"type\":\"LegendItem\"},{\"attributes\":{\"source\":{\"id\":\"22094\"}},\"id\":\"22151\",\"type\":\"CDSView\"},{\"attributes\":{\"overlay\":{\"id\":\"22117\"}},\"id\":\"22113\",\"type\":\"BoxZoomTool\"},{\"attributes\":{\"text\":\"\"},\"id\":\"22137\",\"type\":\"Title\"},{\"attributes\":{\"bottom_units\":\"screen\",\"fill_alpha\":0.5,\"fill_color\":\"lightgrey\",\"left_units\":\"screen\",\"level\":\"overlay\",\"line_alpha\":1.0,\"line_color\":\"black\",\"line_dash\":[4,4],\"line_width\":2,\"right_units\":\"screen\",\"top_units\":\"screen\"},\"id\":\"22117\",\"type\":\"BoxAnnotation\"},{\"attributes\":{},\"id\":\"22138\",\"type\":\"BasicTickFormatter\"},{\"attributes\":{\"axis\":{\"id\":\"22104\"},\"grid_line_color\":null,\"ticker\":null},\"id\":\"22106\",\"type\":\"Grid\"},{\"attributes\":{\"axis_label\":\"Month\",\"formatter\":{\"id\":\"22140\"},\"major_label_orientation\":1.5707963267948966,\"ticker\":{\"id\":\"22105\"}},\"id\":\"22104\",\"type\":\"CategoricalAxis\"},{\"attributes\":{},\"id\":\"22114\",\"type\":\"SaveTool\"},{\"attributes\":{\"factors\":[\"Jul-2019\",\"Aug-2019\",\"Sep-2019\",\"Oct-2019\",\"Nov-2019\",\"Dec-2019\",\"Jan-2020\",\"Feb-2020\",\"Mar-2020\",\"Apr-2020\",\"May-2020\",\"Jun-2020\",\"Jul-2020\",\"Aug-2020\",\"Sep-2020\",\"Oct-2020\",\"Nov-2020\",\"Dec-2020\",\"Jan-2021\",\"Feb-2021\",\"Mar-2021\",\"Apr-2021\",\"May-2021\"]},\"id\":\"22096\",\"type\":\"FactorRange\"},{\"attributes\":{},\"id\":\"22140\",\"type\":\"CategoricalTickFormatter\"},{\"attributes\":{},\"id\":\"22098\",\"type\":\"DataRange1d\"},{\"attributes\":{},\"id\":\"22100\",\"type\":\"CategoricalScale\"},{\"attributes\":{\"axis_label\":\"Loans in $ Millions\",\"formatter\":{\"id\":\"22138\"},\"ticker\":{\"id\":\"22108\"}},\"id\":\"22107\",\"type\":\"LinearAxis\"},{\"attributes\":{},\"id\":\"22143\",\"type\":\"Selection\"},{\"attributes\":{},\"id\":\"22144\",\"type\":\"UnionRenderers\"},{\"attributes\":{\"data_source\":{\"id\":\"22094\"},\"glyph\":{\"id\":\"22148\"},\"hover_glyph\":null,\"muted_glyph\":null,\"name\":\"First_Investor\",\"nonselection_glyph\":{\"id\":\"22149\"},\"selection_glyph\":null,\"view\":{\"id\":\"22151\"}},\"id\":\"22150\",\"type\":\"GlyphRenderer\"},{\"attributes\":{},\"id\":\"22102\",\"type\":\"LinearScale\"},{\"attributes\":{},\"id\":\"22116\",\"type\":\"HelpTool\"},{\"attributes\":{},\"id\":\"22115\",\"type\":\"ResetTool\"},{\"attributes\":{\"source\":{\"id\":\"22094\"}},\"id\":\"22135\",\"type\":\"CDSView\"},{\"attributes\":{},\"id\":\"22108\",\"type\":\"BasicTicker\"},{\"attributes\":{\"data\":{\"First_Investor\":{\"__ndarray__\":\"AAAAAADgcEAzMzMzM9NwQAAAAAAAgG1AMzMzMzOzcEBmZmZmZu5wQGZmZmZmDnBAmpmZmZk5ZkBmZmZmZnZkQM3MzMzMjGhAAAAAAADgaEAAAAAAAIBoQM3MzMzMHG1AMzMzMzOjbkAzMzMzM2NvQGZmZmZmnnJAAAAAAACIcUAzMzMzM1NzQM3MzMzM/HVAZmZmZmY2c0CamZmZmUFzQAAAAAAAiHtAmpmZmZlxe0DNzMzMzAiAQA==\",\"dtype\":\"float64\",\"order\":\"little\",\"shape\":[23]},\"First_Owner\":{\"__ndarray__\":\"zczMzMwjrEBmZmZmZqusQJqZmZmZE6xAzczMzMxFr0DNzMzMTK6wQGZmZmZm+LBAMzMzMzOlrEDNzMzMzIarQGZmZmbmaLBAAAAAAAAXrkDNzMzMzJqsQGZmZmZm5q9AmpmZmRnDsUAAAAAAgE2zQJqZmZmZxrVAAAAAAAB8tkBmZmZmZk64QDMzMzMzKbxAAAAAAIAlt0DNzMzMTMG2QDMzMzOzTrtAMzMzMzOTuEAAAAAAAPG5QA==\",\"dtype\":\"float64\",\"order\":\"little\",\"shape\":[23]},\"date\":[\"Jul-2019\",\"Aug-2019\",\"Sep-2019\",\"Oct-2019\",\"Nov-2019\",\"Dec-2019\",\"Jan-2020\",\"Feb-2020\",\"Mar-2020\",\"Apr-2020\",\"May-2020\",\"Jun-2020\",\"Jul-2020\",\"Aug-2020\",\"Sep-2020\",\"Oct-2020\",\"Nov-2020\",\"Dec-2020\",\"Jan-2021\",\"Feb-2021\",\"Mar-2021\",\"Apr-2021\",\"May-2021\"],\"index\":[0,1,2,3,4,5,6,7,8,9,10,11,12,13,14,15,16,17,18,19,20,21,22]},\"selected\":{\"id\":\"22143\"},\"selection_policy\":{\"id\":\"22144\"}},\"id\":\"22094\",\"type\":\"ColumnDataSource\"},{\"attributes\":{},\"id\":\"22105\",\"type\":\"CategoricalTicker\"},{\"attributes\":{\"fields\":[]},\"id\":\"22127\",\"type\":\"Stack\"},{\"attributes\":{\"fields\":[\"First_Owner\"]},\"id\":\"22128\",\"type\":\"Stack\"},{\"attributes\":{\"axis\":{\"id\":\"22107\"},\"dimension\":1,\"grid_line_color\":null,\"ticker\":null},\"id\":\"22110\",\"type\":\"Grid\"},{\"attributes\":{\"fields\":[\"First_Owner\",\"First_Investor\"]},\"id\":\"22130\",\"type\":\"Stack\"},{\"attributes\":{\"callback\":null,\"tooltips\":[[\"Owner Occupier\",\"$@First_Owner{int} million\"],[\"Investor\",\"$@First_Investor{int} million\"]]},\"id\":\"22118\",\"type\":\"HoverTool\"},{\"attributes\":{\"active_drag\":\"auto\",\"active_inspect\":\"auto\",\"active_multi\":null,\"active_scroll\":\"auto\",\"active_tap\":\"auto\",\"tools\":[{\"id\":\"22111\"},{\"id\":\"22112\"},{\"id\":\"22113\"},{\"id\":\"22114\"},{\"id\":\"22115\"},{\"id\":\"22116\"},{\"id\":\"22118\"}]},\"id\":\"22119\",\"type\":\"Toolbar\"},{\"attributes\":{},\"id\":\"22112\",\"type\":\"WheelZoomTool\"},{\"attributes\":{\"items\":[{\"id\":\"22146\"},{\"id\":\"22161\"}],\"location\":\"top_left\"},\"id\":\"22145\",\"type\":\"Legend\"},{\"attributes\":{},\"id\":\"22111\",\"type\":\"PanTool\"},{\"attributes\":{\"bottom\":{\"expr\":{\"id\":\"22127\"}},\"fill_alpha\":{\"value\":0.1},\"fill_color\":{\"value\":\"#2b83ba\"},\"line_alpha\":{\"value\":0.1},\"line_color\":{\"value\":\"#2b83ba\"},\"top\":{\"expr\":{\"id\":\"22128\"}},\"width\":{\"value\":0.5},\"x\":{\"field\":\"date\"}},\"id\":\"22133\",\"type\":\"VBar\"},{\"attributes\":{\"bottom\":{\"expr\":{\"id\":\"22129\"}},\"fill_color\":{\"value\":\"#abdda4\"},\"line_color\":{\"value\":\"#abdda4\"},\"top\":{\"expr\":{\"id\":\"22130\"}},\"width\":{\"value\":0.5},\"x\":{\"field\":\"date\"}},\"id\":\"22148\",\"type\":\"VBar\"},{\"attributes\":{\"bottom\":{\"expr\":{\"id\":\"22129\"}},\"fill_alpha\":{\"value\":0.1},\"fill_color\":{\"value\":\"#abdda4\"},\"line_alpha\":{\"value\":0.1},\"line_color\":{\"value\":\"#abdda4\"},\"top\":{\"expr\":{\"id\":\"22130\"}},\"width\":{\"value\":0.5},\"x\":{\"field\":\"date\"}},\"id\":\"22149\",\"type\":\"VBar\"},{\"attributes\":{\"label\":{\"value\":\"Owner Occupier\"},\"renderers\":[{\"id\":\"22134\"}]},\"id\":\"22146\",\"type\":\"LegendItem\"},{\"attributes\":{\"data_source\":{\"id\":\"22094\"},\"glyph\":{\"id\":\"22132\"},\"hover_glyph\":null,\"muted_glyph\":null,\"name\":\"First_Owner\",\"nonselection_glyph\":{\"id\":\"22133\"},\"selection_glyph\":null,\"view\":{\"id\":\"22135\"}},\"id\":\"22134\",\"type\":\"GlyphRenderer\"},{\"attributes\":{\"fields\":[\"First_Owner\"]},\"id\":\"22129\",\"type\":\"Stack\"},{\"attributes\":{\"bottom\":{\"expr\":{\"id\":\"22127\"}},\"fill_color\":{\"value\":\"#2b83ba\"},\"line_color\":{\"value\":\"#2b83ba\"},\"top\":{\"expr\":{\"id\":\"22128\"}},\"width\":{\"value\":0.5},\"x\":{\"field\":\"date\"}},\"id\":\"22132\",\"type\":\"VBar\"}],\"root_ids\":[\"22095\"]},\"title\":\"Bokeh Application\",\"version\":\"2.2.3\"}};\n",
       "  var render_items = [{\"docid\":\"211cc791-5aca-41ca-919e-16e9bff33ac0\",\"root_ids\":[\"22095\"],\"roots\":{\"22095\":\"d17de8c8-b829-43d8-ae8c-251b69fd3f4b\"}}];\n",
       "  root.Bokeh.embed.embed_items_notebook(docs_json, render_items);\n",
       "\n",
       "  }\n",
       "  if (root.Bokeh !== undefined) {\n",
       "    embed_document(root);\n",
       "  } else {\n",
       "    var attempts = 0;\n",
       "    var timer = setInterval(function(root) {\n",
       "      if (root.Bokeh !== undefined) {\n",
       "        clearInterval(timer);\n",
       "        embed_document(root);\n",
       "      } else {\n",
       "        attempts++;\n",
       "        if (attempts > 100) {\n",
       "          clearInterval(timer);\n",
       "          console.log(\"Bokeh: ERROR: Unable to run BokehJS code because BokehJS library is missing\");\n",
       "        }\n",
       "      }\n",
       "    }, 10, root)\n",
       "  }\n",
       "})(window);"
      ],
      "application/vnd.bokehjs_exec.v0+json": ""
     },
     "metadata": {
      "application/vnd.bokehjs_exec.v0+json": {
       "id": "22095"
      }
     },
     "output_type": "display_data"
    }
   ],
   "source": [
    "invester_owner = DF[['date','First_Owner', 'First_Investor']]\n",
    "source = ColumnDataSource(invester_owner)\n",
    "dates = DF['date'].tolist()\n",
    "\n",
    "TOOLTIPS = [\n",
    "    (\"Owner Occupier\", \"$@First_Owner{int} million\"),\n",
    "    (\"Investor\", \"$@First_Investor{int} million\"),]\n",
    "\n",
    "p = figure(x_range=dates, tooltips=TOOLTIPS)\n",
    "\n",
    "p.vbar_stack(stackers=['First_Owner', 'First_Investor'],\n",
    "             x='date', source=source,\n",
    "             width=0.5, color=Spectral5[0:2],\n",
    "            legend_label = ['Owner Occupier', 'Investor'])\n",
    "\n",
    "p.legend.location = 'top_left'\n",
    "\n",
    "p.xaxis.axis_label = 'Month'\n",
    "p.xgrid.grid_line_color = None\t#remove the x grid lines\n",
    "p.ygrid.grid_line_color = None\t#remove the x grid lines\n",
    "\n",
    "p.yaxis.axis_label = 'Loans in $ Millions'\n",
    "\n",
    "p.xaxis.major_label_orientation = math.pi/2\n",
    "\n",
    "show(p)"
   ]
  },
  {
   "cell_type": "markdown",
   "metadata": {},
   "source": [
    "# First time home buyers: Investors"
   ]
  },
  {
   "cell_type": "code",
   "execution_count": 80,
   "metadata": {},
   "outputs": [
    {
     "data": {
      "text/html": [
       "\n",
       "\n",
       "\n",
       "\n",
       "\n",
       "\n",
       "  <div class=\"bk-root\" id=\"4437b90d-af2a-4eb6-b7b4-5f23addfd4b5\" data-root-id=\"26187\"></div>\n"
      ]
     },
     "metadata": {},
     "output_type": "display_data"
    },
    {
     "data": {
      "application/javascript": [
       "(function(root) {\n",
       "  function embed_document(root) {\n",
       "    \n",
       "  var docs_json = {\"1b898877-b3bd-4d83-b155-bde98b166464\":{\"roots\":{\"references\":[{\"attributes\":{\"below\":[{\"id\":\"26196\"}],\"center\":[{\"id\":\"26198\"},{\"id\":\"26202\"},{\"id\":\"26233\"}],\"left\":[{\"id\":\"26199\"}],\"renderers\":[{\"id\":\"26222\"}],\"title\":{\"id\":\"26225\"},\"toolbar\":{\"id\":\"26211\"},\"x_range\":{\"id\":\"26188\"},\"x_scale\":{\"id\":\"26192\"},\"y_range\":{\"id\":\"26190\"},\"y_scale\":{\"id\":\"26194\"}},\"id\":\"26187\",\"subtype\":\"Figure\",\"type\":\"Plot\"},{\"attributes\":{},\"id\":\"26232\",\"type\":\"UnionRenderers\"},{\"attributes\":{},\"id\":\"26208\",\"type\":\"HelpTool\"},{\"attributes\":{\"fill_color\":{\"value\":\"#abdda4\"},\"line_color\":{\"value\":\"#abdda4\"},\"top\":{\"field\":\"First_Investor\"},\"width\":{\"value\":0.9},\"x\":{\"field\":\"date\"}},\"id\":\"26220\",\"type\":\"VBar\"},{\"attributes\":{},\"id\":\"26206\",\"type\":\"SaveTool\"},{\"attributes\":{\"bottom_units\":\"screen\",\"fill_alpha\":0.5,\"fill_color\":\"lightgrey\",\"left_units\":\"screen\",\"level\":\"overlay\",\"line_alpha\":1.0,\"line_color\":\"black\",\"line_dash\":[4,4],\"line_width\":2,\"right_units\":\"screen\",\"top_units\":\"screen\"},\"id\":\"26209\",\"type\":\"BoxAnnotation\"},{\"attributes\":{},\"id\":\"26192\",\"type\":\"CategoricalScale\"},{\"attributes\":{\"callback\":null,\"tooltips\":[[\"Firts Time Home Buyers: Investors\",\"$@First_Investor{int} million\"]]},\"id\":\"26210\",\"type\":\"HoverTool\"},{\"attributes\":{\"data\":{\"First_Investor\":{\"__ndarray__\":\"AAAAAADgcEAzMzMzM9NwQAAAAAAAgG1AMzMzMzOzcEBmZmZmZu5wQGZmZmZmDnBAmpmZmZk5ZkBmZmZmZnZkQM3MzMzMjGhAAAAAAADgaEAAAAAAAIBoQM3MzMzMHG1AMzMzMzOjbkAzMzMzM2NvQGZmZmZmnnJAAAAAAACIcUAzMzMzM1NzQM3MzMzM/HVAZmZmZmY2c0CamZmZmUFzQAAAAAAAiHtAmpmZmZlxe0DNzMzMzAiAQA==\",\"dtype\":\"float64\",\"order\":\"little\",\"shape\":[23]},\"date\":[\"Jul-2019\",\"Aug-2019\",\"Sep-2019\",\"Oct-2019\",\"Nov-2019\",\"Dec-2019\",\"Jan-2020\",\"Feb-2020\",\"Mar-2020\",\"Apr-2020\",\"May-2020\",\"Jun-2020\",\"Jul-2020\",\"Aug-2020\",\"Sep-2020\",\"Oct-2020\",\"Nov-2020\",\"Dec-2020\",\"Jan-2021\",\"Feb-2021\",\"Mar-2021\",\"Apr-2021\",\"May-2021\"],\"index\":[0,1,2,3,4,5,6,7,8,9,10,11,12,13,14,15,16,17,18,19,20,21,22]},\"selected\":{\"id\":\"26231\"},\"selection_policy\":{\"id\":\"26232\"}},\"id\":\"26186\",\"type\":\"ColumnDataSource\"},{\"attributes\":{\"axis_label\":\"Loans in $ Millions\",\"formatter\":{\"id\":\"26226\"},\"ticker\":{\"id\":\"26200\"}},\"id\":\"26199\",\"type\":\"LinearAxis\"},{\"attributes\":{},\"id\":\"26194\",\"type\":\"LinearScale\"},{\"attributes\":{},\"id\":\"26197\",\"type\":\"CategoricalTicker\"},{\"attributes\":{},\"id\":\"26190\",\"type\":\"DataRange1d\"},{\"attributes\":{},\"id\":\"26207\",\"type\":\"ResetTool\"},{\"attributes\":{\"axis\":{\"id\":\"26196\"},\"grid_line_color\":null,\"ticker\":null},\"id\":\"26198\",\"type\":\"Grid\"},{\"attributes\":{\"overlay\":{\"id\":\"26209\"}},\"id\":\"26205\",\"type\":\"BoxZoomTool\"},{\"attributes\":{\"active_drag\":\"auto\",\"active_inspect\":\"auto\",\"active_multi\":null,\"active_scroll\":\"auto\",\"active_tap\":\"auto\",\"tools\":[{\"id\":\"26203\"},{\"id\":\"26204\"},{\"id\":\"26205\"},{\"id\":\"26206\"},{\"id\":\"26207\"},{\"id\":\"26208\"},{\"id\":\"26210\"}]},\"id\":\"26211\",\"type\":\"Toolbar\"},{\"attributes\":{},\"id\":\"26226\",\"type\":\"BasicTickFormatter\"},{\"attributes\":{\"axis_label\":\"Month\",\"formatter\":{\"id\":\"26228\"},\"major_label_orientation\":1.5707963267948966,\"ticker\":{\"id\":\"26197\"}},\"id\":\"26196\",\"type\":\"CategoricalAxis\"},{\"attributes\":{\"axis\":{\"id\":\"26199\"},\"dimension\":1,\"grid_line_color\":null,\"ticker\":null},\"id\":\"26202\",\"type\":\"Grid\"},{\"attributes\":{},\"id\":\"26204\",\"type\":\"WheelZoomTool\"},{\"attributes\":{},\"id\":\"26228\",\"type\":\"CategoricalTickFormatter\"},{\"attributes\":{\"fill_alpha\":{\"value\":0.1},\"fill_color\":{\"value\":\"#abdda4\"},\"line_alpha\":{\"value\":0.1},\"line_color\":{\"value\":\"#abdda4\"},\"top\":{\"field\":\"First_Investor\"},\"width\":{\"value\":0.9},\"x\":{\"field\":\"date\"}},\"id\":\"26221\",\"type\":\"VBar\"},{\"attributes\":{\"factors\":[\"Jul-2019\",\"Aug-2019\",\"Sep-2019\",\"Oct-2019\",\"Nov-2019\",\"Dec-2019\",\"Jan-2020\",\"Feb-2020\",\"Mar-2020\",\"Apr-2020\",\"May-2020\",\"Jun-2020\",\"Jul-2020\",\"Aug-2020\",\"Sep-2020\",\"Oct-2020\",\"Nov-2020\",\"Dec-2020\",\"Jan-2021\",\"Feb-2021\",\"Mar-2021\",\"Apr-2021\",\"May-2021\"]},\"id\":\"26188\",\"type\":\"FactorRange\"},{\"attributes\":{\"items\":[{\"id\":\"26234\"}],\"location\":\"top_left\"},\"id\":\"26233\",\"type\":\"Legend\"},{\"attributes\":{\"text\":\"\"},\"id\":\"26225\",\"type\":\"Title\"},{\"attributes\":{},\"id\":\"26203\",\"type\":\"PanTool\"},{\"attributes\":{\"source\":{\"id\":\"26186\"}},\"id\":\"26223\",\"type\":\"CDSView\"},{\"attributes\":{},\"id\":\"26231\",\"type\":\"Selection\"},{\"attributes\":{},\"id\":\"26200\",\"type\":\"BasicTicker\"},{\"attributes\":{\"data_source\":{\"id\":\"26186\"},\"glyph\":{\"id\":\"26220\"},\"hover_glyph\":null,\"muted_glyph\":null,\"nonselection_glyph\":{\"id\":\"26221\"},\"selection_glyph\":null,\"view\":{\"id\":\"26223\"}},\"id\":\"26222\",\"type\":\"GlyphRenderer\"},{\"attributes\":{\"label\":{\"value\":\"Investor\"},\"renderers\":[{\"id\":\"26222\"}]},\"id\":\"26234\",\"type\":\"LegendItem\"}],\"root_ids\":[\"26187\"]},\"title\":\"Bokeh Application\",\"version\":\"2.2.3\"}};\n",
       "  var render_items = [{\"docid\":\"1b898877-b3bd-4d83-b155-bde98b166464\",\"root_ids\":[\"26187\"],\"roots\":{\"26187\":\"4437b90d-af2a-4eb6-b7b4-5f23addfd4b5\"}}];\n",
       "  root.Bokeh.embed.embed_items_notebook(docs_json, render_items);\n",
       "\n",
       "  }\n",
       "  if (root.Bokeh !== undefined) {\n",
       "    embed_document(root);\n",
       "  } else {\n",
       "    var attempts = 0;\n",
       "    var timer = setInterval(function(root) {\n",
       "      if (root.Bokeh !== undefined) {\n",
       "        clearInterval(timer);\n",
       "        embed_document(root);\n",
       "      } else {\n",
       "        attempts++;\n",
       "        if (attempts > 100) {\n",
       "          clearInterval(timer);\n",
       "          console.log(\"Bokeh: ERROR: Unable to run BokehJS code because BokehJS library is missing\");\n",
       "        }\n",
       "      }\n",
       "    }, 10, root)\n",
       "  }\n",
       "})(window);"
      ],
      "application/vnd.bokehjs_exec.v0+json": ""
     },
     "metadata": {
      "application/vnd.bokehjs_exec.v0+json": {
       "id": "26187"
      }
     },
     "output_type": "display_data"
    }
   ],
   "source": [
    "invester = DF[['date', 'First_Investor']]\n",
    "source = ColumnDataSource(invester)\n",
    "dates = DF['date'].tolist()\n",
    "\n",
    "TOOLTIPS = [\n",
    "    (\"Firts Time Home Buyers: Investors\", \"$@First_Investor{int} million\"),]\n",
    "\n",
    "p = figure(x_range=dates, tooltips=TOOLTIPS)\n",
    "\n",
    "p.vbar(x='date', top=\"First_Investor\", source=source, width=0.9,\n",
    "      color=Spectral5[1], legend_label = 'Investor')\n",
    "\n",
    "p.legend.location = 'top_left'\n",
    "\n",
    "p.xaxis.axis_label = 'Month'\n",
    "p.xgrid.grid_line_color = None\t#remove the x grid lines\n",
    "p.ygrid.grid_line_color = None\t#remove the x grid lines\n",
    "\n",
    "p.yaxis.axis_label = 'Loans in $ Millions'\n",
    "\n",
    "p.xaxis.major_label_orientation = math.pi/2\n",
    "\n",
    "show(p)"
   ]
  },
  {
   "cell_type": "markdown",
   "metadata": {},
   "source": [
    "# Property Index vs Income Index"
   ]
  },
  {
   "cell_type": "code",
   "execution_count": 9,
   "metadata": {},
   "outputs": [],
   "source": [
    "pve = pd.read_csv(\"property_vs_earnings.csv\")"
   ]
  },
  {
   "cell_type": "code",
   "execution_count": 12,
   "metadata": {},
   "outputs": [],
   "source": [
    "prop_seg = []\n",
    "income_seg = []\n",
    "for i in range(1, len(pve)):\n",
    "    prop_seg.append(100*(1 + pve.Property_Index.pct_change()[1:i]).prod())\n",
    "    income_seg.append(100*(1 + pve.Weekly_Earnings.pct_change()[1:i]).prod())"
   ]
  },
  {
   "cell_type": "code",
   "execution_count": 13,
   "metadata": {},
   "outputs": [],
   "source": [
    "pve = pve[1:]"
   ]
  },
  {
   "cell_type": "code",
   "execution_count": 14,
   "metadata": {},
   "outputs": [],
   "source": [
    "pve['prop_seg'] = prop_seg\n",
    "pve['income_seg'] = income_seg"
   ]
  },
  {
   "cell_type": "code",
   "execution_count": null,
   "metadata": {},
   "outputs": [],
   "source": [
    "source = ColumnDataSource(data=dict(x=a_list, y=an_array))\n",
    "p.circe(x='x', y='y', source=source, ...)"
   ]
  },
  {
   "cell_type": "code",
   "execution_count": 68,
   "metadata": {},
   "outputs": [
    {
     "data": {
      "text/html": [
       "\n",
       "\n",
       "\n",
       "\n",
       "\n",
       "\n",
       "  <div class=\"bk-root\" id=\"5d42ac10-6bad-4c52-9089-4790ac9530ff\" data-root-id=\"17373\"></div>\n"
      ]
     },
     "metadata": {},
     "output_type": "display_data"
    },
    {
     "data": {
      "application/javascript": [
       "(function(root) {\n",
       "  function embed_document(root) {\n",
       "    \n",
       "  var docs_json = {\"2d636597-8cd6-4643-a45d-176cc4c1f8c9\":{\"roots\":{\"references\":[{\"attributes\":{\"background_fill_color\":\"#fafafa\",\"below\":[{\"id\":\"17382\"}],\"center\":[{\"id\":\"17385\"},{\"id\":\"17389\"},{\"id\":\"17432\"}],\"left\":[{\"id\":\"17386\"}],\"renderers\":[{\"id\":\"17409\"},{\"id\":\"17437\"}],\"title\":{\"id\":\"17412\"},\"toolbar\":{\"id\":\"17398\"},\"x_range\":{\"id\":\"17374\"},\"x_scale\":{\"id\":\"17378\"},\"y_range\":{\"id\":\"17376\"},\"y_scale\":{\"id\":\"17380\"}},\"id\":\"17373\",\"subtype\":\"Figure\",\"type\":\"Plot\"},{\"attributes\":{},\"id\":\"17415\",\"type\":\"DatetimeTickFormatter\"},{\"attributes\":{\"months\":[0,4,8]},\"id\":\"17427\",\"type\":\"MonthsTicker\"},{\"attributes\":{\"items\":[{\"id\":\"17433\"},{\"id\":\"17460\"}],\"location\":\"top_left\"},\"id\":\"17432\",\"type\":\"Legend\"},{\"attributes\":{\"line_alpha\":0.1,\"line_color\":\"coral\",\"line_width\":0.5,\"x\":{\"field\":\"x\"},\"y\":{\"field\":\"y2\"}},\"id\":\"17436\",\"type\":\"Line\"},{\"attributes\":{\"bottom_units\":\"screen\",\"fill_alpha\":0.5,\"fill_color\":\"lightgrey\",\"left_units\":\"screen\",\"level\":\"overlay\",\"line_alpha\":1.0,\"line_color\":\"black\",\"line_dash\":[4,4],\"line_width\":2,\"right_units\":\"screen\",\"top_units\":\"screen\"},\"id\":\"17396\",\"type\":\"BoxAnnotation\"},{\"attributes\":{},\"id\":\"17387\",\"type\":\"BasicTicker\"},{\"attributes\":{\"line_color\":\"coral\",\"line_width\":0.5,\"x\":{\"field\":\"x\"},\"y\":{\"field\":\"y2\"}},\"id\":\"17435\",\"type\":\"Line\"},{\"attributes\":{\"source\":{\"id\":\"17372\"}},\"id\":\"17438\",\"type\":\"CDSView\"},{\"attributes\":{\"data\":{\"x\":{\"__ndarray__\":\"AACAyi3+b0IAAAD4kXRwQgAAwAoN6nBCAACAHYhfcUIAAACWVdVxQgAAwKjQSnJCAACAu0vAckIAAEDOxjVzQgAAwEaUq3NCAACAWQ8hdEIAAEBsipZ0QgAAAH8FDHVCAACA99KBdUIAAEAKTvd1QgAAAB3JbHZCAADAL0TidkIAAECoEVh3Qg==\",\"dtype\":\"float64\",\"order\":\"little\",\"shape\":[17]},\"y1\":{\"__ndarray__\":\"AAAAAAAAWUCEzEuJ4BFZQOIWUBjVqVlAEsEj/fXcW0BRGNVpcpBfQBC3gMKoTl5AeB9uAYVRYUAf6a/nKhZiQLoFFEZ1WmFAlYPMS4ngYUCvYtn4ZqhjQHOQeSkR/GRA0FUsG9/MZkCpTpODzItoQKjJQealxGlA5JuhtftwaEBj2fhmaA1pQA==\",\"dtype\":\"float64\",\"order\":\"little\",\"shape\":[17]},\"y2\":{\"__ndarray__\":\"AAAAAAAAWUCTmdzvQ+pZQLF2kHbfJVtA5EJiA/oxXEA6bp/5Ho5dQHfsSbgIU19A27OGmzuqYEBBJkar5E1hQD1V33TiDGJAaApQN9n1YkCVLobX+HhjQDFBZeo5LWRApeqbTpxhZECRSi2csL1kQGRfzQpjKWVAleK9w+CPZUARQbSZjUBmQA==\",\"dtype\":\"float64\",\"order\":\"little\",\"shape\":[17]}},\"selected\":{\"id\":\"17430\"},\"selection_policy\":{\"id\":\"17431\"}},\"id\":\"17372\",\"type\":\"ColumnDataSource\"},{\"attributes\":{},\"id\":\"17430\",\"type\":\"Selection\"},{\"attributes\":{},\"id\":\"17431\",\"type\":\"UnionRenderers\"},{\"attributes\":{},\"id\":\"17376\",\"type\":\"DataRange1d\"},{\"attributes\":{},\"id\":\"17378\",\"type\":\"LinearScale\"},{\"attributes\":{\"data_source\":{\"id\":\"17372\"},\"glyph\":{\"id\":\"17435\"},\"hover_glyph\":null,\"muted_glyph\":null,\"nonselection_glyph\":{\"id\":\"17436\"},\"selection_glyph\":null,\"view\":{\"id\":\"17438\"}},\"id\":\"17437\",\"type\":\"GlyphRenderer\"},{\"attributes\":{\"label\":{\"value\":\"Income Index\"},\"renderers\":[{\"id\":\"17437\"}]},\"id\":\"17460\",\"type\":\"LegendItem\"},{\"attributes\":{},\"id\":\"17374\",\"type\":\"DataRange1d\"},{\"attributes\":{\"formatter\":{\"id\":\"17413\"},\"ticker\":{\"id\":\"17387\"}},\"id\":\"17386\",\"type\":\"LinearAxis\"},{\"attributes\":{\"axis\":{\"id\":\"17382\"},\"ticker\":null},\"id\":\"17385\",\"type\":\"Grid\"},{\"attributes\":{\"axis\":{\"id\":\"17386\"},\"dimension\":1,\"ticker\":null},\"id\":\"17389\",\"type\":\"Grid\"},{\"attributes\":{\"data_source\":{\"id\":\"17372\"},\"glyph\":{\"id\":\"17407\"},\"hover_glyph\":null,\"muted_glyph\":null,\"nonselection_glyph\":{\"id\":\"17408\"},\"selection_glyph\":null,\"view\":{\"id\":\"17410\"}},\"id\":\"17409\",\"type\":\"GlyphRenderer\"},{\"attributes\":{\"formatter\":{\"id\":\"17415\"},\"ticker\":{\"id\":\"17383\"}},\"id\":\"17382\",\"type\":\"DatetimeAxis\"},{\"attributes\":{\"num_minor_ticks\":5,\"tickers\":[{\"id\":\"17418\"},{\"id\":\"17419\"},{\"id\":\"17420\"},{\"id\":\"17421\"},{\"id\":\"17422\"},{\"id\":\"17423\"},{\"id\":\"17424\"},{\"id\":\"17425\"},{\"id\":\"17426\"},{\"id\":\"17427\"},{\"id\":\"17428\"},{\"id\":\"17429\"}]},\"id\":\"17383\",\"type\":\"DatetimeTicker\"},{\"attributes\":{},\"id\":\"17380\",\"type\":\"LinearScale\"},{\"attributes\":{},\"id\":\"17395\",\"type\":\"HelpTool\"},{\"attributes\":{\"callback\":null,\"tooltips\":[[\"Property\",\"@y1\"],[\"Income\",\"@y2\"]]},\"id\":\"17397\",\"type\":\"HoverTool\"},{\"attributes\":{\"line_color\":\"indigo\",\"x\":{\"field\":\"x\"},\"y\":{\"field\":\"y1\"}},\"id\":\"17407\",\"type\":\"Line\"},{\"attributes\":{\"mantissas\":[1,2,5],\"max_interval\":500.0,\"num_minor_ticks\":0},\"id\":\"17418\",\"type\":\"AdaptiveTicker\"},{\"attributes\":{},\"id\":\"17391\",\"type\":\"WheelZoomTool\"},{\"attributes\":{},\"id\":\"17390\",\"type\":\"PanTool\"},{\"attributes\":{\"overlay\":{\"id\":\"17396\"}},\"id\":\"17392\",\"type\":\"BoxZoomTool\"},{\"attributes\":{\"label\":{\"value\":\"Property Index\"},\"renderers\":[{\"id\":\"17409\"}]},\"id\":\"17433\",\"type\":\"LegendItem\"},{\"attributes\":{},\"id\":\"17393\",\"type\":\"SaveTool\"},{\"attributes\":{\"base\":60,\"mantissas\":[1,2,5,10,15,20,30],\"max_interval\":1800000.0,\"min_interval\":1000.0,\"num_minor_ticks\":0},\"id\":\"17419\",\"type\":\"AdaptiveTicker\"},{\"attributes\":{},\"id\":\"17394\",\"type\":\"ResetTool\"},{\"attributes\":{\"days\":[1,2,3,4,5,6,7,8,9,10,11,12,13,14,15,16,17,18,19,20,21,22,23,24,25,26,27,28,29,30,31]},\"id\":\"17421\",\"type\":\"DaysTicker\"},{\"attributes\":{\"base\":24,\"mantissas\":[1,2,4,6,8,12],\"max_interval\":43200000.0,\"min_interval\":3600000.0,\"num_minor_ticks\":0},\"id\":\"17420\",\"type\":\"AdaptiveTicker\"},{\"attributes\":{\"source\":{\"id\":\"17372\"}},\"id\":\"17410\",\"type\":\"CDSView\"},{\"attributes\":{},\"id\":\"17413\",\"type\":\"BasicTickFormatter\"},{\"attributes\":{\"months\":[0,1,2,3,4,5,6,7,8,9,10,11]},\"id\":\"17425\",\"type\":\"MonthsTicker\"},{\"attributes\":{\"months\":[0,2,4,6,8,10]},\"id\":\"17426\",\"type\":\"MonthsTicker\"},{\"attributes\":{\"text\":\"\"},\"id\":\"17412\",\"type\":\"Title\"},{\"attributes\":{\"days\":[1,4,7,10,13,16,19,22,25,28]},\"id\":\"17422\",\"type\":\"DaysTicker\"},{\"attributes\":{\"days\":[1,15]},\"id\":\"17424\",\"type\":\"DaysTicker\"},{\"attributes\":{\"active_drag\":\"auto\",\"active_inspect\":\"auto\",\"active_multi\":null,\"active_scroll\":\"auto\",\"active_tap\":\"auto\",\"tools\":[{\"id\":\"17390\"},{\"id\":\"17391\"},{\"id\":\"17392\"},{\"id\":\"17393\"},{\"id\":\"17394\"},{\"id\":\"17395\"},{\"id\":\"17397\"}]},\"id\":\"17398\",\"type\":\"Toolbar\"},{\"attributes\":{\"months\":[0,6]},\"id\":\"17428\",\"type\":\"MonthsTicker\"},{\"attributes\":{\"days\":[1,8,15,22]},\"id\":\"17423\",\"type\":\"DaysTicker\"},{\"attributes\":{\"line_alpha\":0.1,\"line_color\":\"indigo\",\"x\":{\"field\":\"x\"},\"y\":{\"field\":\"y1\"}},\"id\":\"17408\",\"type\":\"Line\"},{\"attributes\":{},\"id\":\"17429\",\"type\":\"YearsTicker\"}],\"root_ids\":[\"17373\"]},\"title\":\"Bokeh Application\",\"version\":\"2.2.3\"}};\n",
       "  var render_items = [{\"docid\":\"2d636597-8cd6-4643-a45d-176cc4c1f8c9\",\"root_ids\":[\"17373\"],\"roots\":{\"17373\":\"5d42ac10-6bad-4c52-9089-4790ac9530ff\"}}];\n",
       "  root.Bokeh.embed.embed_items_notebook(docs_json, render_items);\n",
       "\n",
       "  }\n",
       "  if (root.Bokeh !== undefined) {\n",
       "    embed_document(root);\n",
       "  } else {\n",
       "    var attempts = 0;\n",
       "    var timer = setInterval(function(root) {\n",
       "      if (root.Bokeh !== undefined) {\n",
       "        clearInterval(timer);\n",
       "        embed_document(root);\n",
       "      } else {\n",
       "        attempts++;\n",
       "        if (attempts > 100) {\n",
       "          clearInterval(timer);\n",
       "          console.log(\"Bokeh: ERROR: Unable to run BokehJS code because BokehJS library is missing\");\n",
       "        }\n",
       "      }\n",
       "    }, 10, root)\n",
       "  }\n",
       "})(window);"
      ],
      "application/vnd.bokehjs_exec.v0+json": ""
     },
     "metadata": {
      "application/vnd.bokehjs_exec.v0+json": {
       "id": "17373"
      }
     },
     "output_type": "display_data"
    }
   ],
   "source": [
    "import numpy as np\n",
    "\n",
    "from bokeh.plotting import figure, show\n",
    "\n",
    "source = ColumnDataSource(data=dict(\n",
    "    x=pd.to_datetime(pve.date),\n",
    "    y1=pve.prop_seg,\n",
    "    y2=pve.income_seg,))\n",
    "\n",
    "TOOLTIPS = [\n",
    "    (\"Property\", \"@y1\"),\n",
    "    (\"Income\", \"@y2\"),]\n",
    "\n",
    "p = figure(x_axis_type='datetime', background_fill_color=\"#fafafa\", tooltips=TOOLTIPS)\n",
    "\n",
    "p.line(\"x\", \"y1\", legend_label=\"Property Index\",\n",
    "         line_color=\"indigo\", line_width=1, source=source)\n",
    "\n",
    "p.line(\"x\", \"y2\", legend_label=\"Income Index\",\n",
    "         line_color=\"coral\", line_width=0.5, source=source)\n",
    "\n",
    "\n",
    "\n",
    "p.legend.location = \"top_left\"\n",
    "\n",
    "\n",
    "show(p)"
   ]
  },
  {
   "cell_type": "code",
   "execution_count": 86,
   "metadata": {},
   "outputs": [],
   "source": [
    "commits = pd.read_csv(\"commits.csv\")\n",
    "commits['Percentage'] = (commits.num_new_com/commits.total_com)*100"
   ]
  },
  {
   "cell_type": "code",
   "execution_count": 107,
   "metadata": {},
   "outputs": [
    {
     "data": {
      "text/html": [
       "\n",
       "\n",
       "\n",
       "\n",
       "\n",
       "\n",
       "  <div class=\"bk-root\" id=\"ad308ad0-08c8-4282-b5cc-b1343bfae5a3\" data-root-id=\"44612\"></div>\n"
      ]
     },
     "metadata": {},
     "output_type": "display_data"
    },
    {
     "data": {
      "application/javascript": [
       "(function(root) {\n",
       "  function embed_document(root) {\n",
       "    \n",
       "  var docs_json = {\"24078bed-98a7-4f2b-b87c-09f75492280e\":{\"roots\":{\"references\":[{\"attributes\":{\"background_fill_color\":\"#fafafa\",\"below\":[{\"id\":\"44621\"}],\"center\":[{\"id\":\"44624\"},{\"id\":\"44628\"},{\"id\":\"44671\"}],\"left\":[{\"id\":\"44625\"}],\"renderers\":[{\"id\":\"44648\"},{\"id\":\"44676\"}],\"title\":{\"id\":\"44651\"},\"toolbar\":{\"id\":\"44637\"},\"x_range\":{\"id\":\"44613\"},\"x_scale\":{\"id\":\"44617\"},\"y_range\":{\"id\":\"44615\"},\"y_scale\":{\"id\":\"44619\"}},\"id\":\"44612\",\"subtype\":\"Figure\",\"type\":\"Plot\"},{\"attributes\":{\"data_source\":{\"id\":\"44611\"},\"glyph\":{\"id\":\"44674\"},\"hover_glyph\":null,\"muted_glyph\":null,\"nonselection_glyph\":{\"id\":\"44675\"},\"selection_glyph\":null,\"view\":{\"id\":\"44677\"}},\"id\":\"44676\",\"type\":\"GlyphRenderer\"},{\"attributes\":{},\"id\":\"44632\",\"type\":\"SaveTool\"},{\"attributes\":{\"base\":24,\"mantissas\":[1,2,4,6,8,12],\"max_interval\":43200000.0,\"min_interval\":3600000.0,\"num_minor_ticks\":0},\"id\":\"44659\",\"type\":\"AdaptiveTicker\"},{\"attributes\":{\"months\":[0,1,2,3,4,5,6,7,8,9,10,11]},\"id\":\"44664\",\"type\":\"MonthsTicker\"},{\"attributes\":{\"overlay\":{\"id\":\"44635\"}},\"id\":\"44631\",\"type\":\"BoxZoomTool\"},{\"attributes\":{\"items\":[{\"id\":\"44672\"},{\"id\":\"44699\"}],\"location\":\"top_left\"},\"id\":\"44671\",\"type\":\"Legend\"},{\"attributes\":{},\"id\":\"44626\",\"type\":\"BasicTicker\"},{\"attributes\":{\"months\":[0,2,4,6,8,10]},\"id\":\"44665\",\"type\":\"MonthsTicker\"},{\"attributes\":{\"days\":[1,4,7,10,13,16,19,22,25,28]},\"id\":\"44661\",\"type\":\"DaysTicker\"},{\"attributes\":{\"days\":[1,15]},\"id\":\"44663\",\"type\":\"DaysTicker\"},{\"attributes\":{\"data_source\":{\"id\":\"44611\"},\"glyph\":{\"id\":\"44646\"},\"hover_glyph\":null,\"muted_glyph\":null,\"nonselection_glyph\":{\"id\":\"44647\"},\"selection_glyph\":null,\"view\":{\"id\":\"44649\"}},\"id\":\"44648\",\"type\":\"GlyphRenderer\"},{\"attributes\":{\"months\":[0,6]},\"id\":\"44667\",\"type\":\"MonthsTicker\"},{\"attributes\":{\"data\":{\"dates\":[\"Jul-2019\",\"Aug-2019\",\"Sep-2019\",\"Oct-2019\",\"Nov-2019\",\"Dec-2019\",\"Jan-2020\",\"Feb-2020\",\"Mar-2020\",\"Apr-2020\",\"May-2020\",\"Jun-2020\",\"Jul-2020\",\"Aug-2020\",\"Sep-2020\",\"Oct-2020\",\"Nov-2020\",\"Dec-2020\",\"Jan-2021\",\"Feb-2021\",\"Mar-2021\",\"Apr-2021\",\"May-2021\"],\"x\":{\"__ndarray__\":\"AACATK26dkIAAMCep8R2QgAAAPGhznZCAACA3UnYdkIAAMAvROJ2QgAAQBzs63ZCAACAbub1dkIAAMDA4P92QgAAgEc2CXdCAADAmTATd0IAAECG2Bx3QgAAgNjSJndCAAAAxXowd0IAAEAXdTp3QgAAgGlvRHdCAAAAVhdOd0IAAECoEVh3QgAAwJS5YXdCAAAA57Nrd0IAAEA5rnV3QgAAQFqxfndCAACArKuId0IAAACZU5J3Qg==\",\"dtype\":\"float64\",\"order\":\"little\",\"shape\":[23]},\"y1\":[9598,9663,9389,10448,10731,10905,9047,8876,10316,9161,8948,10274,11711,12862,14522,14784,15611,17610,14520,14586,17074,14906,15653],\"y2\":[30458,29907,28652,31946,33335,33625,27384,26733,30657,26813,26072,30170,33817,35438,39521,40328,42576,46921,37983,39632,48064,42746,44964],\"y3\":{\"__ndarray__\":\"snYHlCKDP0Ct4z5fsydAQHcxSJRxYkBA/zWLqkNaQEAS1kt7fxhAQEMiTHAyN0BAFgXEHc6EQEDjA9KJ6JlAQGf+fpgq00BAQVoPGEgVQUCLiWsFASlBQAXAYYDfBkFAKn36l7RQQUB0O/sFriVCQDSRcN5cX0JAn/c0/WZUQkAZuczwRVVCQIJ7+1v9w0JAm7xQ6yIdQ0DypyMj3GZCQDKBywUBw0FAtRl2LIBvQUCWYUtC+WdBQA==\",\"dtype\":\"float64\",\"order\":\"little\",\"shape\":[23]}},\"selected\":{\"id\":\"44669\"},\"selection_policy\":{\"id\":\"44670\"}},\"id\":\"44611\",\"type\":\"ColumnDataSource\"},{\"attributes\":{\"days\":[1,8,15,22]},\"id\":\"44662\",\"type\":\"DaysTicker\"},{\"attributes\":{},\"id\":\"44617\",\"type\":\"LinearScale\"},{\"attributes\":{},\"id\":\"44668\",\"type\":\"YearsTicker\"},{\"attributes\":{},\"id\":\"44629\",\"type\":\"PanTool\"},{\"attributes\":{},\"id\":\"44654\",\"type\":\"DatetimeTickFormatter\"},{\"attributes\":{\"text\":\"\"},\"id\":\"44651\",\"type\":\"Title\"},{\"attributes\":{},\"id\":\"44634\",\"type\":\"HelpTool\"},{\"attributes\":{\"months\":[0,4,8]},\"id\":\"44666\",\"type\":\"MonthsTicker\"},{\"attributes\":{},\"id\":\"44619\",\"type\":\"LinearScale\"},{\"attributes\":{},\"id\":\"44615\",\"type\":\"DataRange1d\"},{\"attributes\":{\"bottom_units\":\"screen\",\"fill_alpha\":0.5,\"fill_color\":\"lightgrey\",\"left_units\":\"screen\",\"level\":\"overlay\",\"line_alpha\":1.0,\"line_color\":\"black\",\"line_dash\":[4,4],\"line_width\":2,\"right_units\":\"screen\",\"top_units\":\"screen\"},\"id\":\"44635\",\"type\":\"BoxAnnotation\"},{\"attributes\":{\"formatter\":{\"id\":\"44654\"},\"ticker\":{\"id\":\"44622\"}},\"id\":\"44621\",\"type\":\"DatetimeAxis\"},{\"attributes\":{\"line_alpha\":0.1,\"line_color\":\"coral\",\"line_width\":0.5,\"x\":{\"field\":\"x\"},\"y\":{\"field\":\"y2\"}},\"id\":\"44675\",\"type\":\"Line\"},{\"attributes\":{\"label\":{\"value\":\"First Time Buyers\"},\"renderers\":[{\"id\":\"44648\"}]},\"id\":\"44672\",\"type\":\"LegendItem\"},{\"attributes\":{\"line_color\":\"coral\",\"line_width\":0.5,\"x\":{\"field\":\"x\"},\"y\":{\"field\":\"y2\"}},\"id\":\"44674\",\"type\":\"Line\"},{\"attributes\":{},\"id\":\"44652\",\"type\":\"BasicTickFormatter\"},{\"attributes\":{\"source\":{\"id\":\"44611\"}},\"id\":\"44677\",\"type\":\"CDSView\"},{\"attributes\":{\"axis\":{\"id\":\"44625\"},\"dimension\":1,\"ticker\":null},\"id\":\"44628\",\"type\":\"Grid\"},{\"attributes\":{},\"id\":\"44669\",\"type\":\"Selection\"},{\"attributes\":{},\"id\":\"44630\",\"type\":\"WheelZoomTool\"},{\"attributes\":{\"line_color\":\"indigo\",\"x\":{\"field\":\"x\"},\"y\":{\"field\":\"y1\"}},\"id\":\"44646\",\"type\":\"Line\"},{\"attributes\":{},\"id\":\"44670\",\"type\":\"UnionRenderers\"},{\"attributes\":{\"label\":{\"value\":\"Total Commits\"},\"renderers\":[{\"id\":\"44676\"}]},\"id\":\"44699\",\"type\":\"LegendItem\"},{\"attributes\":{\"axis\":{\"id\":\"44621\"},\"ticker\":null},\"id\":\"44624\",\"type\":\"Grid\"},{\"attributes\":{\"formatter\":{\"id\":\"44652\"},\"ticker\":{\"id\":\"44626\"}},\"id\":\"44625\",\"type\":\"LinearAxis\"},{\"attributes\":{\"num_minor_ticks\":5,\"tickers\":[{\"id\":\"44657\"},{\"id\":\"44658\"},{\"id\":\"44659\"},{\"id\":\"44660\"},{\"id\":\"44661\"},{\"id\":\"44662\"},{\"id\":\"44663\"},{\"id\":\"44664\"},{\"id\":\"44665\"},{\"id\":\"44666\"},{\"id\":\"44667\"},{\"id\":\"44668\"}]},\"id\":\"44622\",\"type\":\"DatetimeTicker\"},{\"attributes\":{\"base\":60,\"mantissas\":[1,2,5,10,15,20,30],\"max_interval\":1800000.0,\"min_interval\":1000.0,\"num_minor_ticks\":0},\"id\":\"44658\",\"type\":\"AdaptiveTicker\"},{\"attributes\":{\"active_drag\":\"auto\",\"active_inspect\":\"auto\",\"active_multi\":null,\"active_scroll\":\"auto\",\"active_tap\":\"auto\",\"tools\":[{\"id\":\"44629\"},{\"id\":\"44630\"},{\"id\":\"44631\"},{\"id\":\"44632\"},{\"id\":\"44633\"},{\"id\":\"44634\"},{\"id\":\"44636\"}]},\"id\":\"44637\",\"type\":\"Toolbar\"},{\"attributes\":{\"callback\":null,\"tooltips\":[[\"Date\",\"@dates\"],[\"First Time Buyers\",\"@y1\"],[\"Total\",\"@y2\"],[\"Percntage\",\"@y3 %\"]]},\"id\":\"44636\",\"type\":\"HoverTool\"},{\"attributes\":{\"line_alpha\":0.1,\"line_color\":\"indigo\",\"x\":{\"field\":\"x\"},\"y\":{\"field\":\"y1\"}},\"id\":\"44647\",\"type\":\"Line\"},{\"attributes\":{\"mantissas\":[1,2,5],\"max_interval\":500.0,\"num_minor_ticks\":0},\"id\":\"44657\",\"type\":\"AdaptiveTicker\"},{\"attributes\":{},\"id\":\"44613\",\"type\":\"DataRange1d\"},{\"attributes\":{},\"id\":\"44633\",\"type\":\"ResetTool\"},{\"attributes\":{\"source\":{\"id\":\"44611\"}},\"id\":\"44649\",\"type\":\"CDSView\"},{\"attributes\":{\"days\":[1,2,3,4,5,6,7,8,9,10,11,12,13,14,15,16,17,18,19,20,21,22,23,24,25,26,27,28,29,30,31]},\"id\":\"44660\",\"type\":\"DaysTicker\"}],\"root_ids\":[\"44612\"]},\"title\":\"Bokeh Application\",\"version\":\"2.2.3\"}};\n",
       "  var render_items = [{\"docid\":\"24078bed-98a7-4f2b-b87c-09f75492280e\",\"root_ids\":[\"44612\"],\"roots\":{\"44612\":\"ad308ad0-08c8-4282-b5cc-b1343bfae5a3\"}}];\n",
       "  root.Bokeh.embed.embed_items_notebook(docs_json, render_items);\n",
       "\n",
       "  }\n",
       "  if (root.Bokeh !== undefined) {\n",
       "    embed_document(root);\n",
       "  } else {\n",
       "    var attempts = 0;\n",
       "    var timer = setInterval(function(root) {\n",
       "      if (root.Bokeh !== undefined) {\n",
       "        clearInterval(timer);\n",
       "        embed_document(root);\n",
       "      } else {\n",
       "        attempts++;\n",
       "        if (attempts > 100) {\n",
       "          clearInterval(timer);\n",
       "          console.log(\"Bokeh: ERROR: Unable to run BokehJS code because BokehJS library is missing\");\n",
       "        }\n",
       "      }\n",
       "    }, 10, root)\n",
       "  }\n",
       "})(window);"
      ],
      "application/vnd.bokehjs_exec.v0+json": ""
     },
     "metadata": {
      "application/vnd.bokehjs_exec.v0+json": {
       "id": "44612"
      }
     },
     "output_type": "display_data"
    }
   ],
   "source": [
    "import numpy as np\n",
    "\n",
    "from bokeh.plotting import figure, show\n",
    "\n",
    "source = ColumnDataSource(data=dict(\n",
    "    x=pd.to_datetime(commits.date),\n",
    "    dates = commits.date,\n",
    "    y1=commits.num_new_com,\n",
    "    y2=commits.total_com,\n",
    "    y3 = commits.Percentage))\n",
    "\n",
    "TOOLTIPS = [(\"Date\", \"@dates\"),\n",
    "    (\"First Time Buyers\", \"@y1\"),\n",
    "    (\"Total\", \"@y2\"),\n",
    "    (\"Percntage\", \"@y3 %\"), \n",
    "       ]\n",
    "\n",
    "FORMATTERS={'@x': 'datetime'}\n",
    "\n",
    "p = figure(x_axis_type='datetime', background_fill_color=\"#fafafa\", tooltips=TOOLTIPS)\n",
    "\n",
    "p.line(\"x\", \"y1\", legend_label=\"First Time Buyers\",\n",
    "         line_color=\"indigo\", line_width=1, source=source)\n",
    "\n",
    "p.line(\"x\", \"y2\", legend_label=\"Total Commits\",\n",
    "         line_color=\"coral\", line_width=0.5, source=source)\n",
    "\n",
    "\n",
    "\n",
    "p.legend.location = \"top_left\"\n",
    "\n",
    "\n",
    "show(p)"
   ]
  },
  {
   "cell_type": "code",
   "execution_count": 94,
   "metadata": {},
   "outputs": [
    {
     "data": {
      "text/html": [
       "\n",
       "\n",
       "\n",
       "\n",
       "\n",
       "\n",
       "  <div class=\"bk-root\" id=\"76062481-2ec7-4d4f-906d-7abcb7951abd\" data-root-id=\"35087\"></div>\n"
      ]
     },
     "metadata": {},
     "output_type": "display_data"
    },
    {
     "data": {
      "application/javascript": [
       "(function(root) {\n",
       "  function embed_document(root) {\n",
       "    \n",
       "  var docs_json = {\"4ddd78f2-9085-4112-9aae-f4462b795a63\":{\"roots\":{\"references\":[{\"attributes\":{\"background_fill_color\":\"#fafafa\",\"below\":[{\"id\":\"35096\"}],\"center\":[{\"id\":\"35099\"},{\"id\":\"35103\"},{\"id\":\"35146\"}],\"left\":[{\"id\":\"35100\"}],\"renderers\":[{\"id\":\"35123\"}],\"title\":{\"id\":\"35126\"},\"toolbar\":{\"id\":\"35112\"},\"x_range\":{\"id\":\"35088\"},\"x_scale\":{\"id\":\"35092\"},\"y_range\":{\"id\":\"35090\"},\"y_scale\":{\"id\":\"35094\"}},\"id\":\"35087\",\"subtype\":\"Figure\",\"type\":\"Plot\"},{\"attributes\":{\"months\":[0,1,2,3,4,5,6,7,8,9,10,11]},\"id\":\"35139\",\"type\":\"MonthsTicker\"},{\"attributes\":{\"mantissas\":[1,2,5],\"max_interval\":500.0,\"num_minor_ticks\":0},\"id\":\"35132\",\"type\":\"AdaptiveTicker\"},{\"attributes\":{\"days\":[1,2,3,4,5,6,7,8,9,10,11,12,13,14,15,16,17,18,19,20,21,22,23,24,25,26,27,28,29,30,31]},\"id\":\"35135\",\"type\":\"DaysTicker\"},{\"attributes\":{\"base\":24,\"mantissas\":[1,2,4,6,8,12],\"max_interval\":43200000.0,\"min_interval\":3600000.0,\"num_minor_ticks\":0},\"id\":\"35134\",\"type\":\"AdaptiveTicker\"},{\"attributes\":{\"items\":[{\"id\":\"35147\"}],\"location\":\"top_left\"},\"id\":\"35146\",\"type\":\"Legend\"},{\"attributes\":{\"bottom_units\":\"screen\",\"fill_alpha\":0.5,\"fill_color\":\"lightgrey\",\"left_units\":\"screen\",\"level\":\"overlay\",\"line_alpha\":1.0,\"line_color\":\"black\",\"line_dash\":[4,4],\"line_width\":2,\"right_units\":\"screen\",\"top_units\":\"screen\"},\"id\":\"35110\",\"type\":\"BoxAnnotation\"},{\"attributes\":{\"formatter\":{\"id\":\"35127\"},\"ticker\":{\"id\":\"35101\"}},\"id\":\"35100\",\"type\":\"LinearAxis\"},{\"attributes\":{},\"id\":\"35092\",\"type\":\"LinearScale\"},{\"attributes\":{\"text\":\"\"},\"id\":\"35126\",\"type\":\"Title\"},{\"attributes\":{\"axis\":{\"id\":\"35096\"},\"ticker\":null},\"id\":\"35099\",\"type\":\"Grid\"},{\"attributes\":{},\"id\":\"35144\",\"type\":\"Selection\"},{\"attributes\":{},\"id\":\"35145\",\"type\":\"UnionRenderers\"},{\"attributes\":{},\"id\":\"35127\",\"type\":\"BasicTickFormatter\"},{\"attributes\":{},\"id\":\"35101\",\"type\":\"BasicTicker\"},{\"attributes\":{\"formatter\":{\"id\":\"35129\"},\"ticker\":{\"id\":\"35097\"}},\"id\":\"35096\",\"type\":\"DatetimeAxis\"},{\"attributes\":{\"data\":{\"x\":{\"__ndarray__\":\"AACATK26dkIAAMCep8R2QgAAAPGhznZCAACA3UnYdkIAAMAvROJ2QgAAQBzs63ZCAACAbub1dkIAAMDA4P92QgAAgEc2CXdCAADAmTATd0IAAECG2Bx3QgAAgNjSJndCAAAAxXowd0IAAEAXdTp3QgAAgGlvRHdCAAAAVhdOd0IAAECoEVh3QgAAwJS5YXdCAAAA57Nrd0IAAEA5rnV3QgAAQFqxfndCAACArKuId0IAAACZU5J3Qg==\",\"dtype\":\"float64\",\"order\":\"little\",\"shape\":[23]},\"y3\":{\"__ndarray__\":\"snYHlCKDP0Ct4z5fsydAQHcxSJRxYkBA/zWLqkNaQEAS1kt7fxhAQEMiTHAyN0BAFgXEHc6EQEDjA9KJ6JlAQGf+fpgq00BAQVoPGEgVQUCLiWsFASlBQAXAYYDfBkFAKn36l7RQQUB0O/sFriVCQDSRcN5cX0JAn/c0/WZUQkAZuczwRVVCQIJ7+1v9w0JAm7xQ6yIdQ0DypyMj3GZCQDKBywUBw0FAtRl2LIBvQUCWYUtC+WdBQA==\",\"dtype\":\"float64\",\"order\":\"little\",\"shape\":[23]}},\"selected\":{\"id\":\"35144\"},\"selection_policy\":{\"id\":\"35145\"}},\"id\":\"35086\",\"type\":\"ColumnDataSource\"},{\"attributes\":{},\"id\":\"35129\",\"type\":\"DatetimeTickFormatter\"},{\"attributes\":{\"num_minor_ticks\":5,\"tickers\":[{\"id\":\"35132\"},{\"id\":\"35133\"},{\"id\":\"35134\"},{\"id\":\"35135\"},{\"id\":\"35136\"},{\"id\":\"35137\"},{\"id\":\"35138\"},{\"id\":\"35139\"},{\"id\":\"35140\"},{\"id\":\"35141\"},{\"id\":\"35142\"},{\"id\":\"35143\"}]},\"id\":\"35097\",\"type\":\"DatetimeTicker\"},{\"attributes\":{},\"id\":\"35088\",\"type\":\"DataRange1d\"},{\"attributes\":{},\"id\":\"35094\",\"type\":\"LinearScale\"},{\"attributes\":{\"end\":40,\"start\":0},\"id\":\"35090\",\"type\":\"DataRange1d\"},{\"attributes\":{\"axis\":{\"id\":\"35100\"},\"dimension\":1,\"ticker\":null},\"id\":\"35103\",\"type\":\"Grid\"},{\"attributes\":{},\"id\":\"35109\",\"type\":\"HelpTool\"},{\"attributes\":{\"months\":[0,6]},\"id\":\"35142\",\"type\":\"MonthsTicker\"},{\"attributes\":{\"callback\":null,\"tooltips\":[[\"Percntage\",\"@y3 %\"]]},\"id\":\"35111\",\"type\":\"HoverTool\"},{\"attributes\":{\"label\":{\"value\":\"% of Commits that are first time buyers\"},\"renderers\":[{\"id\":\"35123\"}]},\"id\":\"35147\",\"type\":\"LegendItem\"},{\"attributes\":{\"line_color\":\"indigo\",\"x\":{\"field\":\"x\"},\"y\":{\"field\":\"y3\"}},\"id\":\"35121\",\"type\":\"Line\"},{\"attributes\":{},\"id\":\"35104\",\"type\":\"PanTool\"},{\"attributes\":{},\"id\":\"35105\",\"type\":\"WheelZoomTool\"},{\"attributes\":{\"overlay\":{\"id\":\"35110\"}},\"id\":\"35106\",\"type\":\"BoxZoomTool\"},{\"attributes\":{},\"id\":\"35108\",\"type\":\"ResetTool\"},{\"attributes\":{},\"id\":\"35107\",\"type\":\"SaveTool\"},{\"attributes\":{\"base\":60,\"mantissas\":[1,2,5,10,15,20,30],\"max_interval\":1800000.0,\"min_interval\":1000.0,\"num_minor_ticks\":0},\"id\":\"35133\",\"type\":\"AdaptiveTicker\"},{\"attributes\":{\"days\":[1,4,7,10,13,16,19,22,25,28]},\"id\":\"35136\",\"type\":\"DaysTicker\"},{\"attributes\":{\"days\":[1,8,15,22]},\"id\":\"35137\",\"type\":\"DaysTicker\"},{\"attributes\":{\"months\":[0,2,4,6,8,10]},\"id\":\"35140\",\"type\":\"MonthsTicker\"},{\"attributes\":{\"active_drag\":\"auto\",\"active_inspect\":\"auto\",\"active_multi\":null,\"active_scroll\":\"auto\",\"active_tap\":\"auto\",\"tools\":[{\"id\":\"35104\"},{\"id\":\"35105\"},{\"id\":\"35106\"},{\"id\":\"35107\"},{\"id\":\"35108\"},{\"id\":\"35109\"},{\"id\":\"35111\"}]},\"id\":\"35112\",\"type\":\"Toolbar\"},{\"attributes\":{\"data_source\":{\"id\":\"35086\"},\"glyph\":{\"id\":\"35121\"},\"hover_glyph\":null,\"muted_glyph\":null,\"nonselection_glyph\":{\"id\":\"35122\"},\"selection_glyph\":null,\"view\":{\"id\":\"35124\"}},\"id\":\"35123\",\"type\":\"GlyphRenderer\"},{\"attributes\":{\"days\":[1,15]},\"id\":\"35138\",\"type\":\"DaysTicker\"},{\"attributes\":{\"line_alpha\":0.1,\"line_color\":\"indigo\",\"x\":{\"field\":\"x\"},\"y\":{\"field\":\"y3\"}},\"id\":\"35122\",\"type\":\"Line\"},{\"attributes\":{\"months\":[0,4,8]},\"id\":\"35141\",\"type\":\"MonthsTicker\"},{\"attributes\":{},\"id\":\"35143\",\"type\":\"YearsTicker\"},{\"attributes\":{\"source\":{\"id\":\"35086\"}},\"id\":\"35124\",\"type\":\"CDSView\"}],\"root_ids\":[\"35087\"]},\"title\":\"Bokeh Application\",\"version\":\"2.2.3\"}};\n",
       "  var render_items = [{\"docid\":\"4ddd78f2-9085-4112-9aae-f4462b795a63\",\"root_ids\":[\"35087\"],\"roots\":{\"35087\":\"76062481-2ec7-4d4f-906d-7abcb7951abd\"}}];\n",
       "  root.Bokeh.embed.embed_items_notebook(docs_json, render_items);\n",
       "\n",
       "  }\n",
       "  if (root.Bokeh !== undefined) {\n",
       "    embed_document(root);\n",
       "  } else {\n",
       "    var attempts = 0;\n",
       "    var timer = setInterval(function(root) {\n",
       "      if (root.Bokeh !== undefined) {\n",
       "        clearInterval(timer);\n",
       "        embed_document(root);\n",
       "      } else {\n",
       "        attempts++;\n",
       "        if (attempts > 100) {\n",
       "          clearInterval(timer);\n",
       "          console.log(\"Bokeh: ERROR: Unable to run BokehJS code because BokehJS library is missing\");\n",
       "        }\n",
       "      }\n",
       "    }, 10, root)\n",
       "  }\n",
       "})(window);"
      ],
      "application/vnd.bokehjs_exec.v0+json": ""
     },
     "metadata": {
      "application/vnd.bokehjs_exec.v0+json": {
       "id": "35087"
      }
     },
     "output_type": "display_data"
    }
   ],
   "source": [
    "import numpy as np\n",
    "\n",
    "from bokeh.plotting import figure, show\n",
    "\n",
    "source = ColumnDataSource(data=dict(\n",
    "    x=pd.to_datetime(commits.date),\n",
    "    y3 = commits.Percentage))\n",
    "\n",
    "TOOLTIPS = [\n",
    "    (\"Percntage\", \"@y3 %\"), ]\n",
    "\n",
    "p = figure(x_axis_type='datetime', background_fill_color=\"#fafafa\", tooltips=TOOLTIPS)\n",
    "\n",
    "p.line(\"x\", \"y3\", legend_label=\"% of Commits that are first time buyers\",\n",
    "         line_color=\"indigo\", line_width=1, source=source)\n",
    "\n",
    "p.y_range.end = 40\n",
    "p.y_range.start = 0\n",
    "\n",
    "\n",
    "p.legend.location = \"top_left\"\n",
    "\n",
    "\n",
    "show(p)"
   ]
  },
  {
   "cell_type": "code",
   "execution_count": null,
   "metadata": {},
   "outputs": [],
   "source": []
  }
 ],
 "metadata": {
  "kernelspec": {
   "display_name": "Python 3",
   "language": "python",
   "name": "python3"
  },
  "language_info": {
   "codemirror_mode": {
    "name": "ipython",
    "version": 3
   },
   "file_extension": ".py",
   "mimetype": "text/x-python",
   "name": "python",
   "nbconvert_exporter": "python",
   "pygments_lexer": "ipython3",
   "version": "3.8.5"
  },
  "toc": {
   "base_numbering": 1,
   "nav_menu": {},
   "number_sections": true,
   "sideBar": true,
   "skip_h1_title": false,
   "title_cell": "Table of Contents",
   "title_sidebar": "Contents",
   "toc_cell": false,
   "toc_position": {
    "height": "calc(100% - 180px)",
    "left": "10px",
    "top": "150px",
    "width": "165px"
   },
   "toc_section_display": true,
   "toc_window_display": true
  }
 },
 "nbformat": 4,
 "nbformat_minor": 4
}
